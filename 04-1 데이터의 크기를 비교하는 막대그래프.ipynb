{
 "cells": [
  {
   "cell_type": "markdown",
   "id": "3da06578",
   "metadata": {},
   "source": [
    "[학습목표]<br>\n",
    "막대그래프를 그리고, 막대그래프의 여러가지 옵션을 지정할 수 있다."
   ]
  },
  {
   "cell_type": "code",
   "execution_count": 1,
   "id": "aaeccc2c",
   "metadata": {},
   "outputs": [],
   "source": [
    "import pandas as pd\n",
    "import matplotlib.pyplot as plt"
   ]
  },
  {
   "cell_type": "code",
   "execution_count": 2,
   "id": "0c92d9e0",
   "metadata": {},
   "outputs": [],
   "source": [
    "# 그래프에 한글 설정\n",
    "plt.rc('font',family='Malgun Gothic')\n",
    "\n",
    "# 그래프에 마이너스 기호 깨지는 문제 해결\n",
    "plt.rcParams['axes.unicode_minus'] = False"
   ]
  },
  {
   "cell_type": "markdown",
   "id": "62d383e1",
   "metadata": {},
   "source": [
    "# 샘플데이터 \n",
    "* 어느 두 매장의 요일별 평균 매출액"
   ]
  },
  {
   "cell_type": "code",
   "execution_count": 3,
   "id": "fc1a9f6b",
   "metadata": {
    "scrolled": false
   },
   "outputs": [
    {
     "data": {
      "text/html": [
       "<div>\n",
       "<style scoped>\n",
       "    .dataframe tbody tr th:only-of-type {\n",
       "        vertical-align: middle;\n",
       "    }\n",
       "\n",
       "    .dataframe tbody tr th {\n",
       "        vertical-align: top;\n",
       "    }\n",
       "\n",
       "    .dataframe thead th {\n",
       "        text-align: right;\n",
       "    }\n",
       "</style>\n",
       "<table border=\"1\" class=\"dataframe\">\n",
       "  <thead>\n",
       "    <tr style=\"text-align: right;\">\n",
       "      <th></th>\n",
       "      <th>요일</th>\n",
       "      <th>매출액</th>\n",
       "    </tr>\n",
       "  </thead>\n",
       "  <tbody>\n",
       "    <tr>\n",
       "      <th>0</th>\n",
       "      <td>월</td>\n",
       "      <td>10000</td>\n",
       "    </tr>\n",
       "    <tr>\n",
       "      <th>1</th>\n",
       "      <td>화</td>\n",
       "      <td>9000</td>\n",
       "    </tr>\n",
       "    <tr>\n",
       "      <th>2</th>\n",
       "      <td>수</td>\n",
       "      <td>11000</td>\n",
       "    </tr>\n",
       "    <tr>\n",
       "      <th>3</th>\n",
       "      <td>목</td>\n",
       "      <td>8000</td>\n",
       "    </tr>\n",
       "    <tr>\n",
       "      <th>4</th>\n",
       "      <td>금</td>\n",
       "      <td>13000</td>\n",
       "    </tr>\n",
       "    <tr>\n",
       "      <th>5</th>\n",
       "      <td>토</td>\n",
       "      <td>15000</td>\n",
       "    </tr>\n",
       "    <tr>\n",
       "      <th>6</th>\n",
       "      <td>일</td>\n",
       "      <td>14000</td>\n",
       "    </tr>\n",
       "  </tbody>\n",
       "</table>\n",
       "</div>"
      ],
      "text/plain": [
       "  요일    매출액\n",
       "0  월  10000\n",
       "1  화   9000\n",
       "2  수  11000\n",
       "3  목   8000\n",
       "4  금  13000\n",
       "5  토  15000\n",
       "6  일  14000"
      ]
     },
     "execution_count": 3,
     "metadata": {},
     "output_type": "execute_result"
    }
   ],
   "source": [
    "df1 = pd.DataFrame({'요일':['월','화','수','목','금','토','일'], \n",
    "                   '매출액':[10000,9000,11000,8000,13000,15000,14000]})\n",
    "df1"
   ]
  },
  {
   "cell_type": "code",
   "execution_count": 4,
   "id": "9d023a7c",
   "metadata": {
    "scrolled": false
   },
   "outputs": [
    {
     "data": {
      "text/html": [
       "<div>\n",
       "<style scoped>\n",
       "    .dataframe tbody tr th:only-of-type {\n",
       "        vertical-align: middle;\n",
       "    }\n",
       "\n",
       "    .dataframe tbody tr th {\n",
       "        vertical-align: top;\n",
       "    }\n",
       "\n",
       "    .dataframe thead th {\n",
       "        text-align: right;\n",
       "    }\n",
       "</style>\n",
       "<table border=\"1\" class=\"dataframe\">\n",
       "  <thead>\n",
       "    <tr style=\"text-align: right;\">\n",
       "      <th></th>\n",
       "      <th>요일</th>\n",
       "      <th>매출액</th>\n",
       "    </tr>\n",
       "  </thead>\n",
       "  <tbody>\n",
       "    <tr>\n",
       "      <th>0</th>\n",
       "      <td>월</td>\n",
       "      <td>9000</td>\n",
       "    </tr>\n",
       "    <tr>\n",
       "      <th>1</th>\n",
       "      <td>화</td>\n",
       "      <td>9500</td>\n",
       "    </tr>\n",
       "    <tr>\n",
       "      <th>2</th>\n",
       "      <td>수</td>\n",
       "      <td>13000</td>\n",
       "    </tr>\n",
       "    <tr>\n",
       "      <th>3</th>\n",
       "      <td>목</td>\n",
       "      <td>7000</td>\n",
       "    </tr>\n",
       "    <tr>\n",
       "      <th>4</th>\n",
       "      <td>금</td>\n",
       "      <td>12000</td>\n",
       "    </tr>\n",
       "    <tr>\n",
       "      <th>5</th>\n",
       "      <td>토</td>\n",
       "      <td>14000</td>\n",
       "    </tr>\n",
       "    <tr>\n",
       "      <th>6</th>\n",
       "      <td>일</td>\n",
       "      <td>11000</td>\n",
       "    </tr>\n",
       "  </tbody>\n",
       "</table>\n",
       "</div>"
      ],
      "text/plain": [
       "  요일    매출액\n",
       "0  월   9000\n",
       "1  화   9500\n",
       "2  수  13000\n",
       "3  목   7000\n",
       "4  금  12000\n",
       "5  토  14000\n",
       "6  일  11000"
      ]
     },
     "execution_count": 4,
     "metadata": {},
     "output_type": "execute_result"
    }
   ],
   "source": [
    "df2 = pd.DataFrame({'요일':['월','화','수','목','금','토','일'], \n",
    "                   '매출액':[9000,9500,13000,7000,12000,14000,11000]})\n",
    "df2"
   ]
  },
  {
   "cell_type": "markdown",
   "id": "58b9b5d2",
   "metadata": {},
   "source": [
    "# 막대그래프\n",
    "* plt.bar(x축데이터,y축데이터)\n",
    "* plt.barh(x축데이터,y축데이터)"
   ]
  },
  {
   "cell_type": "markdown",
   "id": "42201af4",
   "metadata": {},
   "source": [
    "## 세로 막대 그래프"
   ]
  },
  {
   "cell_type": "code",
   "execution_count": 5,
   "id": "91a7ee96",
   "metadata": {},
   "outputs": [
    {
     "data": {
      "text/plain": [
       "<BarContainer object of 7 artists>"
      ]
     },
     "execution_count": 5,
     "metadata": {},
     "output_type": "execute_result"
    },
    {
     "data": {
      "image/png": "[encoded data removed]",
      "text/plain": [
       "<Figure size 432x288 with 1 Axes>"
      ]
     },
     "metadata": {
      "needs_background": "light"
     },
     "output_type": "display_data"
    }
   ],
   "source": [
    "plt.bar(df1['요일'],df1['매출액'])"
   ]
  },
  {
   "cell_type": "markdown",
   "id": "7ea8068d",
   "metadata": {},
   "source": [
    "## 가로 막대 그래프"
   ]
  },
  {
   "cell_type": "code",
   "execution_count": 6,
   "id": "bcb22e05",
   "metadata": {},
   "outputs": [
    {
     "data": {
      "text/plain": [
       "<BarContainer object of 7 artists>"
      ]
     },
     "execution_count": 6,
     "metadata": {},
     "output_type": "execute_result"
    },
    {
     "data": {
      "image/png": "[encoded data removed]",
      "text/plain": [
       "<Figure size 432x288 with 1 Axes>"
      ]
     },
     "metadata": {
      "needs_background": "light"
     },
     "output_type": "display_data"
    }
   ],
   "source": [
    "plt.barh(df1['요일'],df1['매출액'])"
   ]
  },
  {
   "cell_type": "markdown",
   "id": "1589510b",
   "metadata": {},
   "source": [
    "# 막대 폭 지정"
   ]
  },
  {
   "cell_type": "markdown",
   "id": "91852d67",
   "metadata": {},
   "source": [
    "## 세로 막대 그래프\n",
    "* width = 0~1사이의 실수(default:0.8)"
   ]
  },
  {
   "cell_type": "code",
   "execution_count": 7,
   "id": "fcb22451",
   "metadata": {
    "scrolled": false
   },
   "outputs": [
    {
     "data": {
      "text/plain": [
       "<BarContainer object of 7 artists>"
      ]
     },
     "execution_count": 7,
     "metadata": {},
     "output_type": "execute_result"
    },
    {
     "data": {
      "image/png": "[encoded data removed]",
      "text/plain": [
       "<Figure size 432x288 with 1 Axes>"
      ]
     },
     "metadata": {
      "needs_background": "light"
     },
     "output_type": "display_data"
    }
   ],
   "source": [
    "plt.bar(df1['요일'],df1['매출액'], width=0.4)"
   ]
  },
  {
   "cell_type": "markdown",
   "id": "cce6bd8f",
   "metadata": {},
   "source": [
    "## 가로막대 그래프\n",
    "* height = 0~1사이의 실수(default:0.8)"
   ]
  },
  {
   "cell_type": "code",
   "execution_count": 8,
   "id": "899e9ab3",
   "metadata": {
    "scrolled": true
   },
   "outputs": [
    {
     "data": {
      "text/plain": [
       "<BarContainer object of 7 artists>"
      ]
     },
     "execution_count": 8,
     "metadata": {},
     "output_type": "execute_result"
    },
    {
     "data": {
      "image/png": "[encoded data removed]",
      "text/plain": [
       "<Figure size 432x288 with 1 Axes>"
      ]
     },
     "metadata": {
      "needs_background": "light"
     },
     "output_type": "display_data"
    }
   ],
   "source": [
    "plt.barh(df1['요일'],df1['매출액'],height=0.4)"
   ]
  },
  {
   "cell_type": "markdown",
   "id": "43e75c94",
   "metadata": {},
   "source": [
    "# 막대 색상 지정"
   ]
  },
  {
   "cell_type": "code",
   "execution_count": 9,
   "id": "c952c15e",
   "metadata": {},
   "outputs": [
    {
     "data": {
      "text/plain": [
       "<BarContainer object of 7 artists>"
      ]
     },
     "execution_count": 9,
     "metadata": {},
     "output_type": "execute_result"
    },
    {
     "data": {
      "image/png": "[encoded data removed]",
      "text/plain": [
       "<Figure size 432x288 with 1 Axes>"
      ]
     },
     "metadata": {
      "needs_background": "light"
     },
     "output_type": "display_data"
    }
   ],
   "source": [
    "plt.bar(df1['요일'],df1['매출액'], width=0.4, color='r')"
   ]
  },
  {
   "cell_type": "markdown",
   "id": "65a5eb27",
   "metadata": {},
   "source": [
    "## 막대마다 다른 색 지정\n",
    "* ['r','orange','y','g','b','navy','violet']"
   ]
  },
  {
   "cell_type": "code",
   "execution_count": 10,
   "id": "61a41d0b",
   "metadata": {},
   "outputs": [
    {
     "data": {
      "text/plain": [
       "<BarContainer object of 7 artists>"
      ]
     },
     "execution_count": 10,
     "metadata": {},
     "output_type": "execute_result"
    },
    {
     "data": {
      "image/png": "[encoded data removed]",
      "text/plain": [
       "<Figure size 432x288 with 1 Axes>"
      ]
     },
     "metadata": {
      "needs_background": "light"
     },
     "output_type": "display_data"
    }
   ],
   "source": [
    "plt.bar(df1['요일'],df1['매출액'], width=0.4, color=['r','orange','y','g','b','navy','violet'])"
   ]
  },
  {
   "cell_type": "markdown",
   "id": "c4db9591",
   "metadata": {},
   "source": [
    "# 막대 테두리\n",
    "* edgecolor = 테두리 색상\n",
    "* linewidth = 테두리 두께"
   ]
  },
  {
   "cell_type": "code",
   "execution_count": 11,
   "id": "d8531f01",
   "metadata": {},
   "outputs": [
    {
     "data": {
      "text/plain": [
       "<BarContainer object of 7 artists>"
      ]
     },
     "execution_count": 11,
     "metadata": {},
     "output_type": "execute_result"
    },
    {
     "data": {
      "image/png": "[encoded data removed]",
      "text/plain": [
       "<Figure size 432x288 with 1 Axes>"
      ]
     },
     "metadata": {
      "needs_background": "light"
     },
     "output_type": "display_data"
    }
   ],
   "source": [
    "plt.bar(df1['요일'],df1['매출액'], width=0.4, color=['r','orange','y','g','b','navy','violet']\n",
    "       ,edgecolor='gray',linewidth=2)"
   ]
  },
  {
   "cell_type": "markdown",
   "id": "c2547672",
   "metadata": {},
   "source": [
    "# 막대 패턴 지정하기"
   ]
  },
  {
   "cell_type": "markdown",
   "id": "855a0faf",
   "metadata": {},
   "source": [
    "## 막대에 패턴 지정\n",
    "* hatch 파라미터에 기호 전달 : '/', '\\', '|', '-', '+', 'x', 'o', 'O', '.', '*'"
   ]
  },
  {
   "cell_type": "code",
   "execution_count": 12,
   "id": "d9960eaa",
   "metadata": {
    "scrolled": false
   },
   "outputs": [
    {
     "data": {
      "text/plain": [
       "<BarContainer object of 7 artists>"
      ]
     },
     "execution_count": 12,
     "metadata": {},
     "output_type": "execute_result"
    },
    {
     "data": {
      "image/png": "[encoded data removed]",
      "text/plain": [
       "<Figure size 432x288 with 1 Axes>"
      ]
     },
     "metadata": {
      "needs_background": "light"
     },
     "output_type": "display_data"
    }
   ],
   "source": [
    "plt.bar(df1['요일'],df1['매출액'], width=0.4, color=['r','orange','y','g','b','navy','violet']\n",
    "       ,edgecolor='gray',linewidth=2,hatch='x')"
   ]
  },
  {
   "cell_type": "markdown",
   "id": "3d4b69ed",
   "metadata": {},
   "source": [
    "## 패턴의 밀도 지정\n",
    "* 패턴기호의 개수로 밀도를 조정한다."
   ]
  },
  {
   "cell_type": "code",
   "execution_count": 13,
   "id": "091f4781",
   "metadata": {
    "scrolled": true
   },
   "outputs": [
    {
     "data": {
      "text/plain": [
       "<BarContainer object of 7 artists>"
      ]
     },
     "execution_count": 13,
     "metadata": {},
     "output_type": "execute_result"
    },
    {
     "data": {
      "image/png": "[encoded data removed]",
      "text/plain": [
       "<Figure size 432x288 with 1 Axes>"
      ]
     },
     "metadata": {
      "needs_background": "light"
     },
     "output_type": "display_data"
    }
   ],
   "source": [
    "plt.bar(df1['요일'],df1['매출액'], width=0.4, color=['r','orange','y','g','b','navy','violet']\n",
    "       ,edgecolor='gray',linewidth=2,hatch='xx')"
   ]
  },
  {
   "cell_type": "markdown",
   "id": "c1192210",
   "metadata": {},
   "source": [
    "## 막대마다 다른 패턴 지정\n",
    "* 막대그래프를 객체로 받는다.\n",
    "* 막대마다 다른 패턴을 지정한다.\n",
    "* set_hatch(기호)"
   ]
  },
  {
   "cell_type": "code",
   "execution_count": 14,
   "id": "57a55f94",
   "metadata": {},
   "outputs": [
    {
     "data": {
      "image/png": "[encoded data removed]",
      "text/plain": [
       "<Figure size 432x288 with 1 Axes>"
      ]
     },
     "metadata": {
      "needs_background": "light"
     },
     "output_type": "display_data"
    }
   ],
   "source": [
    "bars = plt.bar(df1['요일'],df1['매출액'], width=0.4, color=['r','orange','y','g','b','navy','violet']\n",
    "       ,edgecolor='gray',linewidth=2)\n",
    "\n",
    "bars[0].set_hatch('.')\n",
    "bars[1].set_hatch('/')\n",
    "bars[2].set_hatch('+')\n",
    "bars[3].set_hatch('-')\n",
    "bars[4].set_hatch('*')\n",
    "bars[5].set_hatch('|')\n",
    "bars[6].set_hatch('o')"
   ]
  },
  {
   "cell_type": "markdown",
   "id": "e565edb9",
   "metadata": {},
   "source": [
    "# 막대 위치 지정"
   ]
  },
  {
   "cell_type": "markdown",
   "id": "de4e2d06",
   "metadata": {},
   "source": [
    "<b>`align = center/edge`</b><br>\n",
    "* 디폴트: center<br>\n",
    "* edge로 지정하면 막대의 왼쪽 끝과 틱을 맞춘다.<br>\n",
    "* 막대의 오른쪽 끝과 틱을 맞추려면 width를 음수로 지정한다.<br>    "
   ]
  },
  {
   "cell_type": "code",
   "execution_count": 15,
   "id": "093e4954",
   "metadata": {
    "scrolled": true
   },
   "outputs": [
    {
     "data": {
      "text/plain": [
       "<BarContainer object of 7 artists>"
      ]
     },
     "execution_count": 15,
     "metadata": {},
     "output_type": "execute_result"
    },
    {
     "data": {
      "image/png": "[encoded data removed]",
      "text/plain": [
       "<Figure size 432x288 with 1 Axes>"
      ]
     },
     "metadata": {
      "needs_background": "light"
     },
     "output_type": "display_data"
    }
   ],
   "source": [
    "plt.bar(df1['요일'],df1['매출액'], width=0.4, align='edge')"
   ]
  },
  {
   "cell_type": "code",
   "execution_count": 16,
   "id": "8e2fdd63",
   "metadata": {},
   "outputs": [
    {
     "data": {
      "text/plain": [
       "<BarContainer object of 7 artists>"
      ]
     },
     "execution_count": 16,
     "metadata": {},
     "output_type": "execute_result"
    },
    {
     "data": {
      "image/png": "[encoded data removed]",
      "text/plain": [
       "<Figure size 432x288 with 1 Axes>"
      ]
     },
     "metadata": {
      "needs_background": "light"
     },
     "output_type": "display_data"
    }
   ],
   "source": [
    "plt.bar(df1['요일'],df1['매출액'], width=-0.4, align='edge')"
   ]
  },
  {
   "cell_type": "markdown",
   "id": "788e6be0",
   "metadata": {},
   "source": [
    "## 두 개의 막대그래프 비교하기"
   ]
  },
  {
   "cell_type": "code",
   "execution_count": 17,
   "id": "b9e6e2cc",
   "metadata": {
    "scrolled": true
   },
   "outputs": [
    {
     "data": {
      "text/html": [
       "<div>\n",
       "<style scoped>\n",
       "    .dataframe tbody tr th:only-of-type {\n",
       "        vertical-align: middle;\n",
       "    }\n",
       "\n",
       "    .dataframe tbody tr th {\n",
       "        vertical-align: top;\n",
       "    }\n",
       "\n",
       "    .dataframe thead th {\n",
       "        text-align: right;\n",
       "    }\n",
       "</style>\n",
       "<table border=\"1\" class=\"dataframe\">\n",
       "  <thead>\n",
       "    <tr style=\"text-align: right;\">\n",
       "      <th></th>\n",
       "      <th>요일</th>\n",
       "      <th>매출액</th>\n",
       "    </tr>\n",
       "  </thead>\n",
       "  <tbody>\n",
       "    <tr>\n",
       "      <th>0</th>\n",
       "      <td>월</td>\n",
       "      <td>10000</td>\n",
       "    </tr>\n",
       "    <tr>\n",
       "      <th>1</th>\n",
       "      <td>화</td>\n",
       "      <td>9000</td>\n",
       "    </tr>\n",
       "    <tr>\n",
       "      <th>2</th>\n",
       "      <td>수</td>\n",
       "      <td>11000</td>\n",
       "    </tr>\n",
       "    <tr>\n",
       "      <th>3</th>\n",
       "      <td>목</td>\n",
       "      <td>8000</td>\n",
       "    </tr>\n",
       "    <tr>\n",
       "      <th>4</th>\n",
       "      <td>금</td>\n",
       "      <td>13000</td>\n",
       "    </tr>\n",
       "    <tr>\n",
       "      <th>5</th>\n",
       "      <td>토</td>\n",
       "      <td>15000</td>\n",
       "    </tr>\n",
       "    <tr>\n",
       "      <th>6</th>\n",
       "      <td>일</td>\n",
       "      <td>14000</td>\n",
       "    </tr>\n",
       "  </tbody>\n",
       "</table>\n",
       "</div>"
      ],
      "text/plain": [
       "  요일    매출액\n",
       "0  월  10000\n",
       "1  화   9000\n",
       "2  수  11000\n",
       "3  목   8000\n",
       "4  금  13000\n",
       "5  토  15000\n",
       "6  일  14000"
      ]
     },
     "execution_count": 17,
     "metadata": {},
     "output_type": "execute_result"
    }
   ],
   "source": [
    "df1"
   ]
  },
  {
   "cell_type": "code",
   "execution_count": 18,
   "id": "badadba1",
   "metadata": {},
   "outputs": [
    {
     "data": {
      "text/html": [
       "<div>\n",
       "<style scoped>\n",
       "    .dataframe tbody tr th:only-of-type {\n",
       "        vertical-align: middle;\n",
       "    }\n",
       "\n",
       "    .dataframe tbody tr th {\n",
       "        vertical-align: top;\n",
       "    }\n",
       "\n",
       "    .dataframe thead th {\n",
       "        text-align: right;\n",
       "    }\n",
       "</style>\n",
       "<table border=\"1\" class=\"dataframe\">\n",
       "  <thead>\n",
       "    <tr style=\"text-align: right;\">\n",
       "      <th></th>\n",
       "      <th>요일</th>\n",
       "      <th>매출액</th>\n",
       "    </tr>\n",
       "  </thead>\n",
       "  <tbody>\n",
       "    <tr>\n",
       "      <th>0</th>\n",
       "      <td>월</td>\n",
       "      <td>9000</td>\n",
       "    </tr>\n",
       "    <tr>\n",
       "      <th>1</th>\n",
       "      <td>화</td>\n",
       "      <td>9500</td>\n",
       "    </tr>\n",
       "    <tr>\n",
       "      <th>2</th>\n",
       "      <td>수</td>\n",
       "      <td>13000</td>\n",
       "    </tr>\n",
       "    <tr>\n",
       "      <th>3</th>\n",
       "      <td>목</td>\n",
       "      <td>7000</td>\n",
       "    </tr>\n",
       "    <tr>\n",
       "      <th>4</th>\n",
       "      <td>금</td>\n",
       "      <td>12000</td>\n",
       "    </tr>\n",
       "    <tr>\n",
       "      <th>5</th>\n",
       "      <td>토</td>\n",
       "      <td>14000</td>\n",
       "    </tr>\n",
       "    <tr>\n",
       "      <th>6</th>\n",
       "      <td>일</td>\n",
       "      <td>11000</td>\n",
       "    </tr>\n",
       "  </tbody>\n",
       "</table>\n",
       "</div>"
      ],
      "text/plain": [
       "  요일    매출액\n",
       "0  월   9000\n",
       "1  화   9500\n",
       "2  수  13000\n",
       "3  목   7000\n",
       "4  금  12000\n",
       "5  토  14000\n",
       "6  일  11000"
      ]
     },
     "execution_count": 18,
     "metadata": {},
     "output_type": "execute_result"
    }
   ],
   "source": [
    "df2"
   ]
  },
  {
   "cell_type": "code",
   "execution_count": 19,
   "id": "eeef620d",
   "metadata": {
    "scrolled": true
   },
   "outputs": [
    {
     "data": {
      "image/png": "[encoded data removed]",
      "text/plain": [
       "<Figure size 432x288 with 1 Axes>"
      ]
     },
     "metadata": {
      "needs_background": "light"
     },
     "output_type": "display_data"
    }
   ],
   "source": [
    "plt.bar(df1['요일'],df1['매출액'], width=-0.4, align='edge')\n",
    "plt.bar(df2['요일'],df2['매출액'], width=0.4, align='edge')\n",
    "plt.title('두 매장의 요일별 매출액 평균', size=15)\n",
    "plt.grid(axis='y', ls=':')"
   ]
  },
  {
   "cell_type": "code",
   "execution_count": 20,
   "id": "bda40917",
   "metadata": {},
   "outputs": [
    {
     "data": {
      "image/png": "[encoded data removed]",
      "text/plain": [
       "<Figure size 432x288 with 1 Axes>"
      ]
     },
     "metadata": {
      "needs_background": "light"
     },
     "output_type": "display_data"
    }
   ],
   "source": [
    "plt.barh(df1['요일'],df1['매출액'], height=-0.4, align='edge')\n",
    "plt.barh(df2['요일'],df2['매출액'], height=0.4, align='edge')\n",
    "plt.title('두 매장의 요일별 매출액 평균', size=15)\n",
    "plt.grid(axis='x', ls=':')"
   ]
  }
 ],
 "metadata": {
  "kernelspec": {
   "display_name": "Python 3",
   "language": "python",
   "name": "python3"
  },
  "language_info": {
   "codemirror_mode": {
    "name": "ipython",
    "version": 3
   },
   "file_extension": ".py",
   "mimetype": "text/x-python",
   "name": "python",
   "nbconvert_exporter": "python",
   "pygments_lexer": "ipython3",
   "version": "3.8.8"
  },
  "toc": {
   "base_numbering": 1,
   "nav_menu": {},
   "number_sections": true,
   "sideBar": true,
   "skip_h1_title": false,
   "title_cell": "Table of Contents",
   "title_sidebar": "Contents",
   "toc_cell": false,
   "toc_position": {
    "height": "calc(100% - 180px)",
    "left": "10px",
    "top": "150px",
    "width": "165px"
   },
   "toc_section_display": true,
   "toc_window_display": true
  }
 },
 "nbformat": 4,
 "nbformat_minor": 5
}
