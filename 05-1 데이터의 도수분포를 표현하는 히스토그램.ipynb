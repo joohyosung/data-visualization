{
 "cells": [
  {
   "cell_type": "markdown",
   "id": "3fb247d9",
   "metadata": {},
   "source": [
    "[학습목표]<br>\n",
    "히스토그램으로 데이터의 도수분포를 표현할 수 있다."
   ]
  },
  {
   "cell_type": "code",
   "execution_count": 1,
   "id": "aaeccc2c",
   "metadata": {},
   "outputs": [],
   "source": [
    "import pandas as pd\n",
    "import matplotlib.pyplot as plt"
   ]
  },
  {
   "cell_type": "code",
   "execution_count": 2,
   "id": "0c92d9e0",
   "metadata": {},
   "outputs": [],
   "source": [
    "# 그래프에 한글 설정\n",
    "plt.rcParams['font.family'] = 'Malgun Gothic'\n",
    "\n",
    "# 유니코드에서 그래프에 마이너스 기호 깨지는 문제 해결\n",
    "plt.rcParams['axes.unicode_minus'] = False"
   ]
  },
  {
   "cell_type": "markdown",
   "id": "58b9b5d2",
   "metadata": {},
   "source": [
    "# 히스토그램\n",
    "* 자료의 도수분포를 나타내는 그래프<br>\n",
    "수치를 나타내는 자료를 일정 구간(계급)으로 나누어 각 구간별 값의 개수(도수)를 나타낸다.<br>\n",
    "\n",
    "* x축은 계급(값의 구간), y축은 도수(구간별 값의 개수)를 나타냄"
   ]
  },
  {
   "cell_type": "markdown",
   "id": "bce06415",
   "metadata": {},
   "source": [
    "## 샘플데이터\n",
    "* 125명의 점수 데이터"
   ]
  },
  {
   "cell_type": "code",
   "execution_count": 3,
   "id": "7392dd07",
   "metadata": {},
   "outputs": [],
   "source": [
    "scores = [0,10,15,15,15,16,19,20,21,25,25,26,26,29,30,35,36,37,39,40,41,41,44,45,45,45,45,47,\n",
    "          50,50,50,50,51,51,51,53,54,55,55,56,60,61,62,62,63,64,65,65,65,65,66,66,66,66,66,\n",
    "          67,68,68,69,70,70,70,70,70,70,70,70,71,71,71,71,71,72,72,72,72,73,74,74,74,75,75,\n",
    "          76,76,76,77,77,77,77,78,78,78,78,78,79,79,79,79,80,80,80,80,80,80,81,81,81,82,82,\n",
    "          85,85,85,88,88,89,90,90,90,93,93,95,95,95,97,100]"
   ]
  },
  {
   "cell_type": "code",
   "execution_count": 4,
   "id": "5a0f0c6f",
   "metadata": {},
   "outputs": [
    {
     "data": {
      "text/plain": [
       "125"
      ]
     },
     "execution_count": 4,
     "metadata": {},
     "output_type": "execute_result"
    }
   ],
   "source": [
    "len(scores)"
   ]
  },
  {
   "cell_type": "markdown",
   "id": "0605e22f",
   "metadata": {},
   "source": [
    "## 히스토그램"
   ]
  },
  {
   "cell_type": "markdown",
   "id": "d6309d60",
   "metadata": {},
   "source": [
    "### 기본 히스토그램\n",
    "* <b>`plt.hist(data)`</b><br>\n",
    "default : 10개의 구간으로 나누어 도수분포를 보여준다."
   ]
  },
  {
   "cell_type": "code",
   "execution_count": 5,
   "id": "0aa763e4",
   "metadata": {
    "scrolled": false
   },
   "outputs": [
    {
     "data": {
      "text/plain": [
       "(array([ 1.,  6.,  7.,  5.,  9., 12., 19., 39., 17., 10.]),\n",
       " array([  0.,  10.,  20.,  30.,  40.,  50.,  60.,  70.,  80.,  90., 100.]),\n",
       " <BarContainer object of 10 artists>)"
      ]
     },
     "execution_count": 5,
     "metadata": {},
     "output_type": "execute_result"
    },
    {
     "data": {
      "image/png": "[encoded data removed]",
      "text/plain": [
       "<Figure size 432x288 with 1 Axes>"
      ]
     },
     "metadata": {
      "needs_background": "light"
     },
     "output_type": "display_data"
    }
   ],
   "source": [
    "plt.hist(scores)"
   ]
  },
  {
   "cell_type": "markdown",
   "id": "a21f6955",
   "metadata": {},
   "source": [
    "### 구간의 개수 변경 \n",
    "<b>` bins=구간의 개수 `</b>"
   ]
  },
  {
   "cell_type": "code",
   "execution_count": 6,
   "id": "2bdf1bce",
   "metadata": {
    "scrolled": true
   },
   "outputs": [
    {
     "data": {
      "text/plain": [
       "(array([ 1.,  0.,  1.,  5.,  2.,  5.,  1.,  4.,  4.,  5.,  9.,  3.,  6.,\n",
       "        13., 21., 18., 11.,  6.,  5.,  5.]),\n",
       " array([  0.,   5.,  10.,  15.,  20.,  25.,  30.,  35.,  40.,  45.,  50.,\n",
       "         55.,  60.,  65.,  70.,  75.,  80.,  85.,  90.,  95., 100.]),\n",
       " <BarContainer object of 20 artists>)"
      ]
     },
     "execution_count": 6,
     "metadata": {},
     "output_type": "execute_result"
    },
    {
     "data": {
      "image/png": "[encoded data removed]",
      "text/plain": [
       "<Figure size 432x288 with 1 Axes>"
      ]
     },
     "metadata": {
      "needs_background": "light"
     },
     "output_type": "display_data"
    }
   ],
   "source": [
    "plt.hist(scores, bins=20)"
   ]
  },
  {
   "cell_type": "markdown",
   "id": "0861c02d",
   "metadata": {},
   "source": [
    "### 누적 히스토그램\n",
    "<b>`cumulative=True`</b>"
   ]
  },
  {
   "cell_type": "code",
   "execution_count": 7,
   "id": "121692c7",
   "metadata": {
    "scrolled": false
   },
   "outputs": [
    {
     "data": {
      "text/plain": [
       "(array([  1.,   1.,   2.,   7.,   9.,  14.,  15.,  19.,  23.,  28.,  37.,\n",
       "         40.,  46.,  59.,  80.,  98., 109., 115., 120., 125.]),\n",
       " array([  0.,   5.,  10.,  15.,  20.,  25.,  30.,  35.,  40.,  45.,  50.,\n",
       "         55.,  60.,  65.,  70.,  75.,  80.,  85.,  90.,  95., 100.]),\n",
       " <BarContainer object of 20 artists>)"
      ]
     },
     "execution_count": 7,
     "metadata": {},
     "output_type": "execute_result"
    },
    {
     "data": {
      "image/png": "[encoded data removed]",
      "text/plain": [
       "<Figure size 432x288 with 1 Axes>"
      ]
     },
     "metadata": {
      "needs_background": "light"
     },
     "output_type": "display_data"
    }
   ],
   "source": [
    "plt.hist(scores, bins=20, cumulative=True)"
   ]
  },
  {
   "cell_type": "markdown",
   "id": "472d1135",
   "metadata": {},
   "source": [
    "### 범위 지정\n",
    "<b>`range=(min,max)`</b>"
   ]
  },
  {
   "cell_type": "code",
   "execution_count": 8,
   "id": "7ac49dc8",
   "metadata": {
    "scrolled": false
   },
   "outputs": [
    {
     "data": {
      "text/plain": [
       "(array([ 9.,  3.,  6., 13., 21., 18., 11.,  9.]),\n",
       " array([50., 55., 60., 65., 70., 75., 80., 85., 90.]),\n",
       " <BarContainer object of 8 artists>)"
      ]
     },
     "execution_count": 8,
     "metadata": {},
     "output_type": "execute_result"
    },
    {
     "data": {
      "image/png": "[encoded data removed]",
      "text/plain": [
       "<Figure size 432x288 with 1 Axes>"
      ]
     },
     "metadata": {
      "needs_background": "light"
     },
     "output_type": "display_data"
    }
   ],
   "source": [
    "plt.hist(scores, bins=8, range=(50,90))"
   ]
  },
  {
   "cell_type": "markdown",
   "id": "92ff93d9",
   "metadata": {},
   "source": [
    "### 밀도 표시\n",
    "<b>`density=True`</b><br>\n",
    "도수를 총 개수로 나눈 수치를 y축에 표시"
   ]
  },
  {
   "cell_type": "code",
   "execution_count": 9,
   "id": "85b4d336",
   "metadata": {
    "scrolled": true
   },
   "outputs": [
    {
     "data": {
      "text/plain": [
       "(array([0.0008, 0.0048, 0.0056, 0.004 , 0.0072, 0.0096, 0.0152, 0.0312,\n",
       "        0.0136, 0.008 ]),\n",
       " array([  0.,  10.,  20.,  30.,  40.,  50.,  60.,  70.,  80.,  90., 100.]),\n",
       " <BarContainer object of 10 artists>)"
      ]
     },
     "execution_count": 9,
     "metadata": {},
     "output_type": "execute_result"
    },
    {
     "data": {
      "image/png": "[encoded data removed]",
      "text/plain": [
       "<Figure size 432x288 with 1 Axes>"
      ]
     },
     "metadata": {
      "needs_background": "light"
     },
     "output_type": "display_data"
    }
   ],
   "source": [
    "plt.hist(scores, density=True)"
   ]
  },
  {
   "cell_type": "code",
   "execution_count": 10,
   "id": "778a6cdc",
   "metadata": {},
   "outputs": [
    {
     "data": {
      "text/plain": [
       "(array([0.008, 0.056, 0.112, 0.152, 0.224, 0.32 , 0.472, 0.784, 0.92 ,\n",
       "        1.   ]),\n",
       " array([  0.,  10.,  20.,  30.,  40.,  50.,  60.,  70.,  80.,  90., 100.]),\n",
       " <BarContainer object of 10 artists>)"
      ]
     },
     "execution_count": 10,
     "metadata": {},
     "output_type": "execute_result"
    },
    {
     "data": {
      "image/png": "[encoded data removed]",
      "text/plain": [
       "<Figure size 432x288 with 1 Axes>"
      ]
     },
     "metadata": {
      "needs_background": "light"
     },
     "output_type": "display_data"
    }
   ],
   "source": [
    "plt.hist(scores, density=True, cumulative=True)"
   ]
  },
  {
   "cell_type": "markdown",
   "id": "be26924f",
   "metadata": {},
   "source": [
    "### 가로 히스토그램\n",
    "<b>`orientation='horizontal'`</b>"
   ]
  },
  {
   "cell_type": "code",
   "execution_count": 11,
   "id": "e6dbe731",
   "metadata": {
    "scrolled": true
   },
   "outputs": [
    {
     "data": {
      "text/plain": [
       "(array([ 1.,  6.,  7.,  5.,  9., 12., 19., 39., 17., 10.]),\n",
       " array([  0.,  10.,  20.,  30.,  40.,  50.,  60.,  70.,  80.,  90., 100.]),\n",
       " <BarContainer object of 10 artists>)"
      ]
     },
     "execution_count": 11,
     "metadata": {},
     "output_type": "execute_result"
    },
    {
     "data": {
      "image/png": "[encoded data removed]",
      "text/plain": [
       "<Figure size 432x288 with 1 Axes>"
      ]
     },
     "metadata": {
      "needs_background": "light"
     },
     "output_type": "display_data"
    }
   ],
   "source": [
    "plt.hist(scores,orientation='horizontal')"
   ]
  },
  {
   "cell_type": "markdown",
   "id": "0d509e63",
   "metadata": {},
   "source": [
    "### 막대 스타일"
   ]
  },
  {
   "cell_type": "markdown",
   "id": "59c4a150",
   "metadata": {},
   "source": [
    "* 선만 표시 <b>`histtype='step'`</b>"
   ]
  },
  {
   "cell_type": "code",
   "execution_count": 12,
   "id": "b8650c21",
   "metadata": {},
   "outputs": [
    {
     "data": {
      "text/plain": [
       "(array([ 1.,  6.,  7.,  5.,  9., 12., 19., 39., 17., 10.]),\n",
       " array([  0.,  10.,  20.,  30.,  40.,  50.,  60.,  70.,  80.,  90., 100.]),\n",
       " [<matplotlib.patches.Polygon at 0x23a841759a0>])"
      ]
     },
     "execution_count": 12,
     "metadata": {},
     "output_type": "execute_result"
    },
    {
     "data": {
      "image/png": "[encoded data removed]",
      "text/plain": [
       "<Figure size 432x288 with 1 Axes>"
      ]
     },
     "metadata": {
      "needs_background": "light"
     },
     "output_type": "display_data"
    }
   ],
   "source": [
    "plt.hist(scores,histtype='step')"
   ]
  },
  {
   "cell_type": "markdown",
   "id": "45bffb69",
   "metadata": {},
   "source": [
    "`rwidth=막대폭(0~1)` `color=막대색` `alpha=투명도`<br>\n",
    "`edgecolor(ec)=선색` `linewidth(lw)=선두께` `linestyle(ls)=선스타일`<br>\n",
    "`hatch=패턴`\n",
    "\n"
   ]
  },
  {
   "cell_type": "code",
   "execution_count": 13,
   "id": "b2ea90d5",
   "metadata": {},
   "outputs": [
    {
     "data": {
      "image/png": "[encoded data removed]",
      "text/plain": [
       "<Figure size 432x288 with 1 Axes>"
      ]
     },
     "metadata": {
      "needs_background": "light"
     },
     "output_type": "display_data"
    }
   ],
   "source": [
    "plt.hist(scores, rwidth=0.9, color='b', alpha=0.5, ec='k', lw=2, ls=':',hatch='/')\n",
    "plt.xticks(range(0,101,10))\n",
    "plt.grid(axis='y', ls=':')\n",
    "plt.xlabel('점수')\n",
    "plt.ylabel('인원')\n",
    "plt.title('점수대별 인원 분포', size=20)\n",
    "plt.show()"
   ]
  }
 ],
 "metadata": {
  "kernelspec": {
   "display_name": "Python 3",
   "language": "python",
   "name": "python3"
  },
  "language_info": {
   "codemirror_mode": {
    "name": "ipython",
    "version": 3
   },
   "file_extension": ".py",
   "mimetype": "text/x-python",
   "name": "python",
   "nbconvert_exporter": "python",
   "pygments_lexer": "ipython3",
   "version": "3.8.8"
  },
  "toc": {
   "base_numbering": 1,
   "nav_menu": {},
   "number_sections": true,
   "sideBar": true,
   "skip_h1_title": false,
   "title_cell": "Table of Contents",
   "title_sidebar": "Contents",
   "toc_cell": false,
   "toc_position": {
    "height": "calc(100% - 180px)",
    "left": "10px",
    "top": "150px",
    "width": "165px"
   },
   "toc_section_display": true,
   "toc_window_display": true
  },
  "widgets": {
   "application/vnd.jupyter.widget-state+json": {
    "state": {},
    "version_major": 2,
    "version_minor": 0
   }
  }
 },
 "nbformat": 4,
 "nbformat_minor": 5
}
