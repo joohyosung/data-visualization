{
 "cells": [
  {
   "cell_type": "code",
   "execution_count": 1,
   "id": "7e36b14b",
   "metadata": {},
   "outputs": [],
   "source": [
    "import matplotlib.pyplot as plt\n",
    "import pandas as pd"
   ]
  },
  {
   "cell_type": "code",
   "execution_count": 2,
   "id": "f6a3c77b",
   "metadata": {},
   "outputs": [],
   "source": [
    "plt.rcParams['font.family']='Malgun Gothic'\n",
    "plt.rcParams['axes.unicode_minus']=False"
   ]
  },
  {
   "cell_type": "markdown",
   "id": "52d67b0f",
   "metadata": {},
   "source": [
    "# 데이터 준비 및 확인\n",
    "* 기상자료개방포털 > 데이터 > 기상관측 > 지상 > 종관기상관측(ASOS)<br>\n",
    "https://data.kma.go.kr/data/grnd/selectAsosRltmList.do?pgmNo=36<br>\n",
    "[ 자료형태 ] 일자료<br>\n",
    "[ 지점 ] 전체<br>\n",
    "[ 자료 ] 기온>최저,최고,평균<br>\n",
    "[ 기간 ] 1911~2020 (10년단위로 나누어 다운로드)\n"
   ]
  },
  {
   "cell_type": "markdown",
   "id": "7370d489",
   "metadata": {},
   "source": [
    "## 데이터프레임 생성"
   ]
  },
  {
   "cell_type": "code",
   "execution_count": 3,
   "id": "c9bff270",
   "metadata": {},
   "outputs": [],
   "source": [
    "df_1911 = pd.read_csv('data/1911-1920 일별 기온.csv', encoding='cp949')\n",
    "df_1921 = pd.read_csv('data/1921-1930 일별 기온.csv', encoding='cp949')\n",
    "df_1931 = pd.read_csv('data/1931-1940 일별 기온.csv', encoding='cp949')\n",
    "df_1941 = pd.read_csv('data/1941-1950 일별 기온.csv', encoding='cp949')\n",
    "df_1951 = pd.read_csv('data/1951-1960 일별 기온.csv', encoding='cp949')\n",
    "df_1961 = pd.read_csv('data/1961-1970 일별 기온.csv', encoding='cp949')\n",
    "df_1971 = pd.read_csv('data/1971-1980 일별 기온.csv', encoding='cp949')\n",
    "df_1981 = pd.read_csv('data/1981-1990 일별 기온.csv', encoding='cp949')\n",
    "df_1991 = pd.read_csv('data/1991-2000 일별 기온.csv', encoding='cp949')\n",
    "df_2001 = pd.read_csv('data/2001-2010 일별 기온.csv', encoding='cp949')\n",
    "df_2011 = pd.read_csv('data/2011-2020 일별 기온.csv', encoding='cp949')"
   ]
  },
  {
   "cell_type": "code",
   "execution_count": 4,
   "id": "e145a161",
   "metadata": {
    "scrolled": true
   },
   "outputs": [],
   "source": [
    "# 데이터프레임 연결하기\n",
    "df = pd.concat([df_1911,df_1921,df_1931,df_1941,df_1951,df_1961,df_1971,df_1981,df_1991,df_2001,df_2011]\n",
    "              ,ignore_index=True)"
   ]
  },
  {
   "cell_type": "code",
   "execution_count": 5,
   "id": "65e5cf39",
   "metadata": {
    "scrolled": false
   },
   "outputs": [
    {
     "data": {
      "text/html": [
       "<div>\n",
       "<style scoped>\n",
       "    .dataframe tbody tr th:only-of-type {\n",
       "        vertical-align: middle;\n",
       "    }\n",
       "\n",
       "    .dataframe tbody tr th {\n",
       "        vertical-align: top;\n",
       "    }\n",
       "\n",
       "    .dataframe thead th {\n",
       "        text-align: right;\n",
       "    }\n",
       "</style>\n",
       "<table border=\"1\" class=\"dataframe\">\n",
       "  <thead>\n",
       "    <tr style=\"text-align: right;\">\n",
       "      <th></th>\n",
       "      <th>지점</th>\n",
       "      <th>지점명</th>\n",
       "      <th>일시</th>\n",
       "      <th>평균기온(°C)</th>\n",
       "      <th>최저기온(°C)</th>\n",
       "      <th>최고기온(°C)</th>\n",
       "    </tr>\n",
       "  </thead>\n",
       "  <tbody>\n",
       "    <tr>\n",
       "      <th>0</th>\n",
       "      <td>105</td>\n",
       "      <td>강릉</td>\n",
       "      <td>1911-10-04</td>\n",
       "      <td>NaN</td>\n",
       "      <td>12.2</td>\n",
       "      <td>26.2</td>\n",
       "    </tr>\n",
       "    <tr>\n",
       "      <th>1</th>\n",
       "      <td>105</td>\n",
       "      <td>강릉</td>\n",
       "      <td>1911-10-09</td>\n",
       "      <td>NaN</td>\n",
       "      <td>6.0</td>\n",
       "      <td>16.6</td>\n",
       "    </tr>\n",
       "    <tr>\n",
       "      <th>2</th>\n",
       "      <td>105</td>\n",
       "      <td>강릉</td>\n",
       "      <td>1911-10-16</td>\n",
       "      <td>NaN</td>\n",
       "      <td>9.2</td>\n",
       "      <td>15.5</td>\n",
       "    </tr>\n",
       "    <tr>\n",
       "      <th>3</th>\n",
       "      <td>105</td>\n",
       "      <td>강릉</td>\n",
       "      <td>1911-11-01</td>\n",
       "      <td>NaN</td>\n",
       "      <td>6.0</td>\n",
       "      <td>14.8</td>\n",
       "    </tr>\n",
       "    <tr>\n",
       "      <th>4</th>\n",
       "      <td>105</td>\n",
       "      <td>강릉</td>\n",
       "      <td>1911-11-04</td>\n",
       "      <td>NaN</td>\n",
       "      <td>10.2</td>\n",
       "      <td>19.5</td>\n",
       "    </tr>\n",
       "  </tbody>\n",
       "</table>\n",
       "</div>"
      ],
      "text/plain": [
       "    지점 지점명          일시  평균기온(°C)  최저기온(°C)  최고기온(°C)\n",
       "0  105  강릉  1911-10-04       NaN      12.2      26.2\n",
       "1  105  강릉  1911-10-09       NaN       6.0      16.6\n",
       "2  105  강릉  1911-10-16       NaN       9.2      15.5\n",
       "3  105  강릉  1911-11-01       NaN       6.0      14.8\n",
       "4  105  강릉  1911-11-04       NaN      10.2      19.5"
      ]
     },
     "execution_count": 5,
     "metadata": {},
     "output_type": "execute_result"
    }
   ],
   "source": [
    "df.head()"
   ]
  },
  {
   "cell_type": "code",
   "execution_count": 6,
   "id": "76ff61f1",
   "metadata": {
    "scrolled": true
   },
   "outputs": [
    {
     "data": {
      "text/html": [
       "<div>\n",
       "<style scoped>\n",
       "    .dataframe tbody tr th:only-of-type {\n",
       "        vertical-align: middle;\n",
       "    }\n",
       "\n",
       "    .dataframe tbody tr th {\n",
       "        vertical-align: top;\n",
       "    }\n",
       "\n",
       "    .dataframe thead th {\n",
       "        text-align: right;\n",
       "    }\n",
       "</style>\n",
       "<table border=\"1\" class=\"dataframe\">\n",
       "  <thead>\n",
       "    <tr style=\"text-align: right;\">\n",
       "      <th></th>\n",
       "      <th>지점</th>\n",
       "      <th>지점명</th>\n",
       "      <th>일시</th>\n",
       "      <th>평균기온(°C)</th>\n",
       "      <th>최저기온(°C)</th>\n",
       "      <th>최고기온(°C)</th>\n",
       "    </tr>\n",
       "  </thead>\n",
       "  <tbody>\n",
       "    <tr>\n",
       "      <th>1596830</th>\n",
       "      <td>295</td>\n",
       "      <td>남해</td>\n",
       "      <td>2020-12-27</td>\n",
       "      <td>4.4</td>\n",
       "      <td>2.5</td>\n",
       "      <td>6.0</td>\n",
       "    </tr>\n",
       "    <tr>\n",
       "      <th>1596831</th>\n",
       "      <td>295</td>\n",
       "      <td>남해</td>\n",
       "      <td>2020-12-28</td>\n",
       "      <td>4.7</td>\n",
       "      <td>1.1</td>\n",
       "      <td>11.5</td>\n",
       "    </tr>\n",
       "    <tr>\n",
       "      <th>1596832</th>\n",
       "      <td>295</td>\n",
       "      <td>남해</td>\n",
       "      <td>2020-12-29</td>\n",
       "      <td>5.4</td>\n",
       "      <td>1.0</td>\n",
       "      <td>11.2</td>\n",
       "    </tr>\n",
       "    <tr>\n",
       "      <th>1596833</th>\n",
       "      <td>295</td>\n",
       "      <td>남해</td>\n",
       "      <td>2020-12-30</td>\n",
       "      <td>-3.0</td>\n",
       "      <td>-5.4</td>\n",
       "      <td>1.6</td>\n",
       "    </tr>\n",
       "    <tr>\n",
       "      <th>1596834</th>\n",
       "      <td>295</td>\n",
       "      <td>남해</td>\n",
       "      <td>2020-12-31</td>\n",
       "      <td>-1.3</td>\n",
       "      <td>-7.4</td>\n",
       "      <td>2.8</td>\n",
       "    </tr>\n",
       "  </tbody>\n",
       "</table>\n",
       "</div>"
      ],
      "text/plain": [
       "          지점 지점명          일시  평균기온(°C)  최저기온(°C)  최고기온(°C)\n",
       "1596830  295  남해  2020-12-27       4.4       2.5       6.0\n",
       "1596831  295  남해  2020-12-28       4.7       1.1      11.5\n",
       "1596832  295  남해  2020-12-29       5.4       1.0      11.2\n",
       "1596833  295  남해  2020-12-30      -3.0      -5.4       1.6\n",
       "1596834  295  남해  2020-12-31      -1.3      -7.4       2.8"
      ]
     },
     "execution_count": 6,
     "metadata": {},
     "output_type": "execute_result"
    }
   ],
   "source": [
    "df.tail()"
   ]
  },
  {
   "cell_type": "markdown",
   "id": "3b1c25e0",
   "metadata": {},
   "source": [
    "## 데이터타입 확인/변경"
   ]
  },
  {
   "cell_type": "code",
   "execution_count": 7,
   "id": "2c906758",
   "metadata": {
    "scrolled": false
   },
   "outputs": [
    {
     "data": {
      "text/plain": [
       "지점            int64\n",
       "지점명          object\n",
       "일시           object\n",
       "평균기온(°C)    float64\n",
       "최저기온(°C)    float64\n",
       "최고기온(°C)    float64\n",
       "dtype: object"
      ]
     },
     "execution_count": 7,
     "metadata": {},
     "output_type": "execute_result"
    }
   ],
   "source": [
    "df.dtypes"
   ]
  },
  {
   "cell_type": "code",
   "execution_count": 8,
   "id": "5223e367",
   "metadata": {},
   "outputs": [],
   "source": [
    "df['일시'] = pd.to_datetime(df['일시'])"
   ]
  },
  {
   "cell_type": "code",
   "execution_count": 9,
   "id": "850fa717",
   "metadata": {
    "scrolled": true
   },
   "outputs": [
    {
     "data": {
      "text/plain": [
       "지점                   int64\n",
       "지점명                 object\n",
       "일시          datetime64[ns]\n",
       "평균기온(°C)           float64\n",
       "최저기온(°C)           float64\n",
       "최고기온(°C)           float64\n",
       "dtype: object"
      ]
     },
     "execution_count": 9,
     "metadata": {},
     "output_type": "execute_result"
    }
   ],
   "source": [
    "df.dtypes"
   ]
  },
  {
   "cell_type": "markdown",
   "id": "d9cafae2",
   "metadata": {},
   "source": [
    "## 데이터 확인"
   ]
  },
  {
   "cell_type": "code",
   "execution_count": 10,
   "id": "6185cafd",
   "metadata": {},
   "outputs": [
    {
     "data": {
      "text/plain": [
       "(1596835, 6)"
      ]
     },
     "execution_count": 10,
     "metadata": {},
     "output_type": "execute_result"
    }
   ],
   "source": [
    "df.shape"
   ]
  },
  {
   "cell_type": "code",
   "execution_count": 11,
   "id": "6e004a29",
   "metadata": {},
   "outputs": [
    {
     "data": {
      "text/plain": [
       "102"
      ]
     },
     "execution_count": 11,
     "metadata": {},
     "output_type": "execute_result"
    }
   ],
   "source": [
    "df['지점명'].nunique()"
   ]
  },
  {
   "cell_type": "markdown",
   "id": "f75cdb63",
   "metadata": {},
   "source": [
    "# 서울시 폭염/열대야 현황 시각화"
   ]
  },
  {
   "cell_type": "markdown",
   "id": "0163ddb3",
   "metadata": {},
   "source": [
    "## 서울시 데이터 추출하여 서브셋 생성"
   ]
  },
  {
   "cell_type": "code",
   "execution_count": 12,
   "id": "a9e83611",
   "metadata": {},
   "outputs": [
    {
     "data": {
      "text/html": [
       "<div>\n",
       "<style scoped>\n",
       "    .dataframe tbody tr th:only-of-type {\n",
       "        vertical-align: middle;\n",
       "    }\n",
       "\n",
       "    .dataframe tbody tr th {\n",
       "        vertical-align: top;\n",
       "    }\n",
       "\n",
       "    .dataframe thead th {\n",
       "        text-align: right;\n",
       "    }\n",
       "</style>\n",
       "<table border=\"1\" class=\"dataframe\">\n",
       "  <thead>\n",
       "    <tr style=\"text-align: right;\">\n",
       "      <th></th>\n",
       "      <th>지점</th>\n",
       "      <th>지점명</th>\n",
       "      <th>일시</th>\n",
       "      <th>평균기온(°C)</th>\n",
       "      <th>최저기온(°C)</th>\n",
       "      <th>최고기온(°C)</th>\n",
       "    </tr>\n",
       "  </thead>\n",
       "  <tbody>\n",
       "    <tr>\n",
       "      <th>3299</th>\n",
       "      <td>108</td>\n",
       "      <td>서울</td>\n",
       "      <td>1911-01-01</td>\n",
       "      <td>-10.1</td>\n",
       "      <td>-14.2</td>\n",
       "      <td>-6.5</td>\n",
       "    </tr>\n",
       "    <tr>\n",
       "      <th>3300</th>\n",
       "      <td>108</td>\n",
       "      <td>서울</td>\n",
       "      <td>1911-01-02</td>\n",
       "      <td>-12.5</td>\n",
       "      <td>-19.7</td>\n",
       "      <td>-5.9</td>\n",
       "    </tr>\n",
       "    <tr>\n",
       "      <th>3301</th>\n",
       "      <td>108</td>\n",
       "      <td>서울</td>\n",
       "      <td>1911-01-03</td>\n",
       "      <td>-4.3</td>\n",
       "      <td>-10.2</td>\n",
       "      <td>-1.4</td>\n",
       "    </tr>\n",
       "    <tr>\n",
       "      <th>3302</th>\n",
       "      <td>108</td>\n",
       "      <td>서울</td>\n",
       "      <td>1911-01-04</td>\n",
       "      <td>0.8</td>\n",
       "      <td>-2.6</td>\n",
       "      <td>2.2</td>\n",
       "    </tr>\n",
       "    <tr>\n",
       "      <th>3303</th>\n",
       "      <td>108</td>\n",
       "      <td>서울</td>\n",
       "      <td>1911-01-05</td>\n",
       "      <td>-3.9</td>\n",
       "      <td>-8.7</td>\n",
       "      <td>1.7</td>\n",
       "    </tr>\n",
       "    <tr>\n",
       "      <th>...</th>\n",
       "      <td>...</td>\n",
       "      <td>...</td>\n",
       "      <td>...</td>\n",
       "      <td>...</td>\n",
       "      <td>...</td>\n",
       "      <td>...</td>\n",
       "    </tr>\n",
       "    <tr>\n",
       "      <th>1295576</th>\n",
       "      <td>108</td>\n",
       "      <td>서울</td>\n",
       "      <td>2020-12-27</td>\n",
       "      <td>5.8</td>\n",
       "      <td>1.4</td>\n",
       "      <td>10.0</td>\n",
       "    </tr>\n",
       "    <tr>\n",
       "      <th>1295577</th>\n",
       "      <td>108</td>\n",
       "      <td>서울</td>\n",
       "      <td>2020-12-28</td>\n",
       "      <td>6.7</td>\n",
       "      <td>4.2</td>\n",
       "      <td>11.4</td>\n",
       "    </tr>\n",
       "    <tr>\n",
       "      <th>1295578</th>\n",
       "      <td>108</td>\n",
       "      <td>서울</td>\n",
       "      <td>2020-12-29</td>\n",
       "      <td>0.1</td>\n",
       "      <td>-6.2</td>\n",
       "      <td>4.3</td>\n",
       "    </tr>\n",
       "    <tr>\n",
       "      <th>1295579</th>\n",
       "      <td>108</td>\n",
       "      <td>서울</td>\n",
       "      <td>2020-12-30</td>\n",
       "      <td>-10.9</td>\n",
       "      <td>-12.9</td>\n",
       "      <td>-6.2</td>\n",
       "    </tr>\n",
       "    <tr>\n",
       "      <th>1295580</th>\n",
       "      <td>108</td>\n",
       "      <td>서울</td>\n",
       "      <td>2020-12-31</td>\n",
       "      <td>-8.9</td>\n",
       "      <td>-12.9</td>\n",
       "      <td>-5.0</td>\n",
       "    </tr>\n",
       "  </tbody>\n",
       "</table>\n",
       "<p>38961 rows × 6 columns</p>\n",
       "</div>"
      ],
      "text/plain": [
       "          지점 지점명         일시  평균기온(°C)  최저기온(°C)  최고기온(°C)\n",
       "3299     108  서울 1911-01-01     -10.1     -14.2      -6.5\n",
       "3300     108  서울 1911-01-02     -12.5     -19.7      -5.9\n",
       "3301     108  서울 1911-01-03      -4.3     -10.2      -1.4\n",
       "3302     108  서울 1911-01-04       0.8      -2.6       2.2\n",
       "3303     108  서울 1911-01-05      -3.9      -8.7       1.7\n",
       "...      ...  ..        ...       ...       ...       ...\n",
       "1295576  108  서울 2020-12-27       5.8       1.4      10.0\n",
       "1295577  108  서울 2020-12-28       6.7       4.2      11.4\n",
       "1295578  108  서울 2020-12-29       0.1      -6.2       4.3\n",
       "1295579  108  서울 2020-12-30     -10.9     -12.9      -6.2\n",
       "1295580  108  서울 2020-12-31      -8.9     -12.9      -5.0\n",
       "\n",
       "[38961 rows x 6 columns]"
      ]
     },
     "execution_count": 12,
     "metadata": {},
     "output_type": "execute_result"
    }
   ],
   "source": [
    "df_seoul = df[df['지점명']=='서울'].copy()\n",
    "df_seoul"
   ]
  },
  {
   "cell_type": "markdown",
   "id": "7afb096f",
   "metadata": {},
   "source": [
    "## 서울시 폭염 데이터 추출\n",
    "* 일 최고기온이 33도 이상"
   ]
  },
  {
   "cell_type": "code",
   "execution_count": 13,
   "id": "c8079de9",
   "metadata": {
    "scrolled": false
   },
   "outputs": [
    {
     "data": {
      "text/html": [
       "<div>\n",
       "<style scoped>\n",
       "    .dataframe tbody tr th:only-of-type {\n",
       "        vertical-align: middle;\n",
       "    }\n",
       "\n",
       "    .dataframe tbody tr th {\n",
       "        vertical-align: top;\n",
       "    }\n",
       "\n",
       "    .dataframe thead th {\n",
       "        text-align: right;\n",
       "    }\n",
       "</style>\n",
       "<table border=\"1\" class=\"dataframe\">\n",
       "  <thead>\n",
       "    <tr style=\"text-align: right;\">\n",
       "      <th></th>\n",
       "      <th>지점</th>\n",
       "      <th>지점명</th>\n",
       "      <th>일시</th>\n",
       "      <th>평균기온(°C)</th>\n",
       "      <th>최저기온(°C)</th>\n",
       "      <th>최고기온(°C)</th>\n",
       "    </tr>\n",
       "  </thead>\n",
       "  <tbody>\n",
       "    <tr>\n",
       "      <th>3519</th>\n",
       "      <td>108</td>\n",
       "      <td>서울</td>\n",
       "      <td>1911-08-09</td>\n",
       "      <td>27.0</td>\n",
       "      <td>23.1</td>\n",
       "      <td>33.0</td>\n",
       "    </tr>\n",
       "    <tr>\n",
       "      <th>3520</th>\n",
       "      <td>108</td>\n",
       "      <td>서울</td>\n",
       "      <td>1911-08-10</td>\n",
       "      <td>28.2</td>\n",
       "      <td>24.2</td>\n",
       "      <td>33.8</td>\n",
       "    </tr>\n",
       "    <tr>\n",
       "      <th>3522</th>\n",
       "      <td>108</td>\n",
       "      <td>서울</td>\n",
       "      <td>1911-08-12</td>\n",
       "      <td>28.7</td>\n",
       "      <td>25.8</td>\n",
       "      <td>34.5</td>\n",
       "    </tr>\n",
       "    <tr>\n",
       "      <th>3523</th>\n",
       "      <td>108</td>\n",
       "      <td>서울</td>\n",
       "      <td>1911-08-13</td>\n",
       "      <td>27.5</td>\n",
       "      <td>23.0</td>\n",
       "      <td>33.8</td>\n",
       "    </tr>\n",
       "    <tr>\n",
       "      <th>3527</th>\n",
       "      <td>108</td>\n",
       "      <td>서울</td>\n",
       "      <td>1911-08-17</td>\n",
       "      <td>26.4</td>\n",
       "      <td>21.5</td>\n",
       "      <td>33.5</td>\n",
       "    </tr>\n",
       "    <tr>\n",
       "      <th>...</th>\n",
       "      <td>...</td>\n",
       "      <td>...</td>\n",
       "      <td>...</td>\n",
       "      <td>...</td>\n",
       "      <td>...</td>\n",
       "      <td>...</td>\n",
       "    </tr>\n",
       "    <tr>\n",
       "      <th>1295075</th>\n",
       "      <td>108</td>\n",
       "      <td>서울</td>\n",
       "      <td>2019-08-14</td>\n",
       "      <td>30.4</td>\n",
       "      <td>25.9</td>\n",
       "      <td>35.7</td>\n",
       "    </tr>\n",
       "    <tr>\n",
       "      <th>1295379</th>\n",
       "      <td>108</td>\n",
       "      <td>서울</td>\n",
       "      <td>2020-06-13</td>\n",
       "      <td>26.9</td>\n",
       "      <td>20.6</td>\n",
       "      <td>33.5</td>\n",
       "    </tr>\n",
       "    <tr>\n",
       "      <th>1295388</th>\n",
       "      <td>108</td>\n",
       "      <td>서울</td>\n",
       "      <td>2020-06-22</td>\n",
       "      <td>28.6</td>\n",
       "      <td>21.7</td>\n",
       "      <td>35.4</td>\n",
       "    </tr>\n",
       "    <tr>\n",
       "      <th>1295452</th>\n",
       "      <td>108</td>\n",
       "      <td>서울</td>\n",
       "      <td>2020-08-25</td>\n",
       "      <td>29.9</td>\n",
       "      <td>26.0</td>\n",
       "      <td>34.5</td>\n",
       "    </tr>\n",
       "    <tr>\n",
       "      <th>1295453</th>\n",
       "      <td>108</td>\n",
       "      <td>서울</td>\n",
       "      <td>2020-08-26</td>\n",
       "      <td>30.2</td>\n",
       "      <td>27.0</td>\n",
       "      <td>34.5</td>\n",
       "    </tr>\n",
       "  </tbody>\n",
       "</table>\n",
       "<p>1028 rows × 6 columns</p>\n",
       "</div>"
      ],
      "text/plain": [
       "          지점 지점명         일시  평균기온(°C)  최저기온(°C)  최고기온(°C)\n",
       "3519     108  서울 1911-08-09      27.0      23.1      33.0\n",
       "3520     108  서울 1911-08-10      28.2      24.2      33.8\n",
       "3522     108  서울 1911-08-12      28.7      25.8      34.5\n",
       "3523     108  서울 1911-08-13      27.5      23.0      33.8\n",
       "3527     108  서울 1911-08-17      26.4      21.5      33.5\n",
       "...      ...  ..        ...       ...       ...       ...\n",
       "1295075  108  서울 2019-08-14      30.4      25.9      35.7\n",
       "1295379  108  서울 2020-06-13      26.9      20.6      33.5\n",
       "1295388  108  서울 2020-06-22      28.6      21.7      35.4\n",
       "1295452  108  서울 2020-08-25      29.9      26.0      34.5\n",
       "1295453  108  서울 2020-08-26      30.2      27.0      34.5\n",
       "\n",
       "[1028 rows x 6 columns]"
      ]
     },
     "execution_count": 13,
     "metadata": {},
     "output_type": "execute_result"
    }
   ],
   "source": [
    "df_seoul_hotday = df_seoul[df_seoul['최고기온(°C)']>=33].copy()\n",
    "df_seoul_hotday"
   ]
  },
  {
   "cell_type": "markdown",
   "id": "aa0972ca",
   "metadata": {},
   "source": [
    "## 서울시 폭염 데이터 시각화"
   ]
  },
  {
   "cell_type": "code",
   "execution_count": 14,
   "id": "b424f803",
   "metadata": {},
   "outputs": [
    {
     "data": {
      "image/png": "[encoded data removed]",
      "text/plain": [
       "<Figure size 1080x360 with 1 Axes>"
      ]
     },
     "metadata": {
      "needs_background": "light"
     },
     "output_type": "display_data"
    }
   ],
   "source": [
    "plt.rcParams['figure.figsize']=(15,5)\n",
    "\n",
    "plt.plot(df_seoul_hotday['일시'], df_seoul_hotday['최고기온(°C)'], 'r.')\n",
    "plt.xlabel('일시')\n",
    "plt.ylabel('최고기온(°C)')\n",
    "plt.title('서울시 폭염일 현황(1911~2020)', size=20)\n",
    "plt.show()"
   ]
  },
  {
   "cell_type": "markdown",
   "id": "5024df38",
   "metadata": {},
   "source": [
    "## 서울시 열대야 데이터 추출\n",
    "* 일 최저기온 25도 이상"
   ]
  },
  {
   "cell_type": "code",
   "execution_count": 15,
   "id": "7d3c8385",
   "metadata": {
    "scrolled": false
   },
   "outputs": [
    {
     "data": {
      "text/html": [
       "<div>\n",
       "<style scoped>\n",
       "    .dataframe tbody tr th:only-of-type {\n",
       "        vertical-align: middle;\n",
       "    }\n",
       "\n",
       "    .dataframe tbody tr th {\n",
       "        vertical-align: top;\n",
       "    }\n",
       "\n",
       "    .dataframe thead th {\n",
       "        text-align: right;\n",
       "    }\n",
       "</style>\n",
       "<table border=\"1\" class=\"dataframe\">\n",
       "  <thead>\n",
       "    <tr style=\"text-align: right;\">\n",
       "      <th></th>\n",
       "      <th>지점</th>\n",
       "      <th>지점명</th>\n",
       "      <th>일시</th>\n",
       "      <th>평균기온(°C)</th>\n",
       "      <th>최저기온(°C)</th>\n",
       "      <th>최고기온(°C)</th>\n",
       "    </tr>\n",
       "  </thead>\n",
       "  <tbody>\n",
       "    <tr>\n",
       "      <th>3522</th>\n",
       "      <td>108</td>\n",
       "      <td>서울</td>\n",
       "      <td>1911-08-12</td>\n",
       "      <td>28.7</td>\n",
       "      <td>25.8</td>\n",
       "      <td>34.5</td>\n",
       "    </tr>\n",
       "    <tr>\n",
       "      <th>4601</th>\n",
       "      <td>108</td>\n",
       "      <td>서울</td>\n",
       "      <td>1914-07-26</td>\n",
       "      <td>29.7</td>\n",
       "      <td>25.8</td>\n",
       "      <td>35.6</td>\n",
       "    </tr>\n",
       "    <tr>\n",
       "      <th>4602</th>\n",
       "      <td>108</td>\n",
       "      <td>서울</td>\n",
       "      <td>1914-07-27</td>\n",
       "      <td>30.2</td>\n",
       "      <td>25.6</td>\n",
       "      <td>35.5</td>\n",
       "    </tr>\n",
       "    <tr>\n",
       "      <th>4605</th>\n",
       "      <td>108</td>\n",
       "      <td>서울</td>\n",
       "      <td>1914-07-30</td>\n",
       "      <td>25.7</td>\n",
       "      <td>25.1</td>\n",
       "      <td>27.4</td>\n",
       "    </tr>\n",
       "    <tr>\n",
       "      <th>4621</th>\n",
       "      <td>108</td>\n",
       "      <td>서울</td>\n",
       "      <td>1914-08-15</td>\n",
       "      <td>27.2</td>\n",
       "      <td>25.2</td>\n",
       "      <td>31.5</td>\n",
       "    </tr>\n",
       "    <tr>\n",
       "      <th>...</th>\n",
       "      <td>...</td>\n",
       "      <td>...</td>\n",
       "      <td>...</td>\n",
       "      <td>...</td>\n",
       "      <td>...</td>\n",
       "      <td>...</td>\n",
       "    </tr>\n",
       "    <tr>\n",
       "      <th>1295452</th>\n",
       "      <td>108</td>\n",
       "      <td>서울</td>\n",
       "      <td>2020-08-25</td>\n",
       "      <td>29.9</td>\n",
       "      <td>26.0</td>\n",
       "      <td>34.5</td>\n",
       "    </tr>\n",
       "    <tr>\n",
       "      <th>1295453</th>\n",
       "      <td>108</td>\n",
       "      <td>서울</td>\n",
       "      <td>2020-08-26</td>\n",
       "      <td>30.2</td>\n",
       "      <td>27.0</td>\n",
       "      <td>34.5</td>\n",
       "    </tr>\n",
       "    <tr>\n",
       "      <th>1295454</th>\n",
       "      <td>108</td>\n",
       "      <td>서울</td>\n",
       "      <td>2020-08-27</td>\n",
       "      <td>27.1</td>\n",
       "      <td>25.6</td>\n",
       "      <td>28.6</td>\n",
       "    </tr>\n",
       "    <tr>\n",
       "      <th>1295455</th>\n",
       "      <td>108</td>\n",
       "      <td>서울</td>\n",
       "      <td>2020-08-28</td>\n",
       "      <td>27.3</td>\n",
       "      <td>26.0</td>\n",
       "      <td>29.7</td>\n",
       "    </tr>\n",
       "    <tr>\n",
       "      <th>1295456</th>\n",
       "      <td>108</td>\n",
       "      <td>서울</td>\n",
       "      <td>2020-08-29</td>\n",
       "      <td>26.8</td>\n",
       "      <td>25.5</td>\n",
       "      <td>29.0</td>\n",
       "    </tr>\n",
       "  </tbody>\n",
       "</table>\n",
       "<p>549 rows × 6 columns</p>\n",
       "</div>"
      ],
      "text/plain": [
       "          지점 지점명         일시  평균기온(°C)  최저기온(°C)  최고기온(°C)\n",
       "3522     108  서울 1911-08-12      28.7      25.8      34.5\n",
       "4601     108  서울 1914-07-26      29.7      25.8      35.6\n",
       "4602     108  서울 1914-07-27      30.2      25.6      35.5\n",
       "4605     108  서울 1914-07-30      25.7      25.1      27.4\n",
       "4621     108  서울 1914-08-15      27.2      25.2      31.5\n",
       "...      ...  ..        ...       ...       ...       ...\n",
       "1295452  108  서울 2020-08-25      29.9      26.0      34.5\n",
       "1295453  108  서울 2020-08-26      30.2      27.0      34.5\n",
       "1295454  108  서울 2020-08-27      27.1      25.6      28.6\n",
       "1295455  108  서울 2020-08-28      27.3      26.0      29.7\n",
       "1295456  108  서울 2020-08-29      26.8      25.5      29.0\n",
       "\n",
       "[549 rows x 6 columns]"
      ]
     },
     "execution_count": 15,
     "metadata": {},
     "output_type": "execute_result"
    }
   ],
   "source": [
    "df_seoul_hotnight = df_seoul[df_seoul['최저기온(°C)']>=25]\n",
    "df_seoul_hotnight"
   ]
  },
  {
   "cell_type": "markdown",
   "id": "50c31cf6",
   "metadata": {},
   "source": [
    "## 서울시 열대야 데이터 시각화"
   ]
  },
  {
   "cell_type": "code",
   "execution_count": 16,
   "id": "781ff5ee",
   "metadata": {
    "scrolled": true
   },
   "outputs": [
    {
     "data": {
      "image/png": "[encoded data removed]",
      "text/plain": [
       "<Figure size 1080x360 with 1 Axes>"
      ]
     },
     "metadata": {
      "needs_background": "light"
     },
     "output_type": "display_data"
    }
   ],
   "source": [
    "plt.plot(df_seoul_hotnight['일시'], df_seoul_hotnight['최저기온(°C)'], 'k.')\n",
    "plt.title('서울시 열대야 현황(1911~2020)', size=20)\n",
    "plt.xlabel('일시')\n",
    "plt.ylabel('일 최저기온(°C)')\n",
    "plt.show()"
   ]
  },
  {
   "cell_type": "markdown",
   "id": "2c56f0b4",
   "metadata": {},
   "source": [
    "# 최고 폭염일, 최고 열대야 강조하기"
   ]
  },
  {
   "cell_type": "markdown",
   "id": "35686809",
   "metadata": {},
   "source": [
    "## 폭염이 가장 심했던 날"
   ]
  },
  {
   "cell_type": "markdown",
   "id": "df5f1ab1",
   "metadata": {},
   "source": [
    "### 폭염이 가장 심했던 날 best10\n",
    "* 데이터프레임.nlargest(개수,컬럼명) : 컬럼의 값이 큰 순으로 개수만큼 출력"
   ]
  },
  {
   "cell_type": "code",
   "execution_count": 17,
   "id": "c0c78304",
   "metadata": {},
   "outputs": [
    {
     "data": {
      "text/html": [
       "<div>\n",
       "<style scoped>\n",
       "    .dataframe tbody tr th:only-of-type {\n",
       "        vertical-align: middle;\n",
       "    }\n",
       "\n",
       "    .dataframe tbody tr th {\n",
       "        vertical-align: top;\n",
       "    }\n",
       "\n",
       "    .dataframe thead th {\n",
       "        text-align: right;\n",
       "    }\n",
       "</style>\n",
       "<table border=\"1\" class=\"dataframe\">\n",
       "  <thead>\n",
       "    <tr style=\"text-align: right;\">\n",
       "      <th></th>\n",
       "      <th>지점</th>\n",
       "      <th>지점명</th>\n",
       "      <th>일시</th>\n",
       "      <th>평균기온(°C)</th>\n",
       "      <th>최저기온(°C)</th>\n",
       "      <th>최고기온(°C)</th>\n",
       "    </tr>\n",
       "  </thead>\n",
       "  <tbody>\n",
       "    <tr>\n",
       "      <th>1294697</th>\n",
       "      <td>108</td>\n",
       "      <td>서울</td>\n",
       "      <td>2018-08-01</td>\n",
       "      <td>33.6</td>\n",
       "      <td>27.8</td>\n",
       "      <td>39.6</td>\n",
       "    </tr>\n",
       "    <tr>\n",
       "      <th>719667</th>\n",
       "      <td>108</td>\n",
       "      <td>서울</td>\n",
       "      <td>1994-07-24</td>\n",
       "      <td>33.1</td>\n",
       "      <td>28.1</td>\n",
       "      <td>38.4</td>\n",
       "    </tr>\n",
       "    <tr>\n",
       "      <th>1294696</th>\n",
       "      <td>108</td>\n",
       "      <td>서울</td>\n",
       "      <td>2018-07-31</td>\n",
       "      <td>32.6</td>\n",
       "      <td>27.8</td>\n",
       "      <td>38.3</td>\n",
       "    </tr>\n",
       "    <tr>\n",
       "      <th>57401</th>\n",
       "      <td>108</td>\n",
       "      <td>서울</td>\n",
       "      <td>1939-08-10</td>\n",
       "      <td>30.1</td>\n",
       "      <td>24.5</td>\n",
       "      <td>38.2</td>\n",
       "    </tr>\n",
       "    <tr>\n",
       "      <th>85687</th>\n",
       "      <td>108</td>\n",
       "      <td>서울</td>\n",
       "      <td>1943-08-24</td>\n",
       "      <td>29.0</td>\n",
       "      <td>23.2</td>\n",
       "      <td>38.2</td>\n",
       "    </tr>\n",
       "    <tr>\n",
       "      <th>719666</th>\n",
       "      <td>108</td>\n",
       "      <td>서울</td>\n",
       "      <td>1994-07-23</td>\n",
       "      <td>32.6</td>\n",
       "      <td>28.0</td>\n",
       "      <td>38.2</td>\n",
       "    </tr>\n",
       "    <tr>\n",
       "      <th>1294687</th>\n",
       "      <td>108</td>\n",
       "      <td>서울</td>\n",
       "      <td>2018-07-22</td>\n",
       "      <td>31.8</td>\n",
       "      <td>25.3</td>\n",
       "      <td>38.0</td>\n",
       "    </tr>\n",
       "    <tr>\n",
       "      <th>1294711</th>\n",
       "      <td>108</td>\n",
       "      <td>서울</td>\n",
       "      <td>2018-08-15</td>\n",
       "      <td>31.7</td>\n",
       "      <td>28.3</td>\n",
       "      <td>38.0</td>\n",
       "    </tr>\n",
       "    <tr>\n",
       "      <th>85691</th>\n",
       "      <td>108</td>\n",
       "      <td>서울</td>\n",
       "      <td>1943-08-28</td>\n",
       "      <td>29.2</td>\n",
       "      <td>24.5</td>\n",
       "      <td>37.9</td>\n",
       "    </tr>\n",
       "    <tr>\n",
       "      <th>1294698</th>\n",
       "      <td>108</td>\n",
       "      <td>서울</td>\n",
       "      <td>2018-08-02</td>\n",
       "      <td>33.7</td>\n",
       "      <td>30.3</td>\n",
       "      <td>37.9</td>\n",
       "    </tr>\n",
       "  </tbody>\n",
       "</table>\n",
       "</div>"
      ],
      "text/plain": [
       "          지점 지점명         일시  평균기온(°C)  최저기온(°C)  최고기온(°C)\n",
       "1294697  108  서울 2018-08-01      33.6      27.8      39.6\n",
       "719667   108  서울 1994-07-24      33.1      28.1      38.4\n",
       "1294696  108  서울 2018-07-31      32.6      27.8      38.3\n",
       "57401    108  서울 1939-08-10      30.1      24.5      38.2\n",
       "85687    108  서울 1943-08-24      29.0      23.2      38.2\n",
       "719666   108  서울 1994-07-23      32.6      28.0      38.2\n",
       "1294687  108  서울 2018-07-22      31.8      25.3      38.0\n",
       "1294711  108  서울 2018-08-15      31.7      28.3      38.0\n",
       "85691    108  서울 1943-08-28      29.2      24.5      37.9\n",
       "1294698  108  서울 2018-08-02      33.7      30.3      37.9"
      ]
     },
     "execution_count": 17,
     "metadata": {},
     "output_type": "execute_result"
    }
   ],
   "source": [
    "df_seoul_hotestday = df_seoul_hotday.nlargest(10,'최고기온(°C)')\n",
    "df_seoul_hotestday"
   ]
  },
  {
   "cell_type": "markdown",
   "id": "b11b30e3",
   "metadata": {},
   "source": [
    "### 폭염이 가장 심했던 날짜, 최고기온"
   ]
  },
  {
   "cell_type": "code",
   "execution_count": 18,
   "id": "5a16b084",
   "metadata": {},
   "outputs": [
    {
     "name": "stdout",
     "output_type": "stream",
     "text": [
      "2018-08-01\n",
      "39.6\n"
     ]
    }
   ],
   "source": [
    "df_seoul_hotestday = df_seoul_hotestday.iloc[[0]]\n",
    "\n",
    "print(df_seoul_hotestday.iloc[0,2].date())\n",
    "print(df_seoul_hotestday.iloc[0,5])\n"
   ]
  },
  {
   "cell_type": "markdown",
   "id": "b1ccee0e",
   "metadata": {},
   "source": [
    "### 시각화"
   ]
  },
  {
   "cell_type": "code",
   "execution_count": 19,
   "id": "ad2d2ad9",
   "metadata": {},
   "outputs": [
    {
     "data": {
      "image/png": "[encoded data removed]",
      "text/plain": [
       "<Figure size 1080x360 with 1 Axes>"
      ]
     },
     "metadata": {
      "needs_background": "light"
     },
     "output_type": "display_data"
    }
   ],
   "source": [
    "# plot\n",
    "plt.plot(df_seoul_hotday['일시'], df_seoul_hotday['최고기온(°C)'], 'r.')\n",
    "plt.xlabel('일시')\n",
    "plt.ylabel('최고기온(°C)')\n",
    "plt.title('서울시 폭염일 현황(1911~2020)', size=20)\n",
    "\n",
    "# 가장 더웠던 날 표시\n",
    "plt.plot(df_seoul_hotestday.iloc[0,2].date(), df_seoul_hotestday.iloc[0,5], 'r^')\n",
    "\n",
    "# 가장 더웠던 날짜, 온도 표시\n",
    "plt.text(df_seoul_hotestday.iloc[0,2].date(), df_seoul_hotestday.iloc[0,5]+0.5,\n",
    "        str(df_seoul_hotestday.iloc[0,2].date())+'('+str(df_seoul_hotestday.iloc[0,5])+'도)',\n",
    "        ha='center', size=12)\n",
    "\n",
    "plt.yticks(range(33,42))\n",
    "\n",
    "plt.show()"
   ]
  },
  {
   "cell_type": "markdown",
   "id": "4d1fb617",
   "metadata": {},
   "source": [
    "## 열대야가 가장 심했던 날"
   ]
  },
  {
   "cell_type": "markdown",
   "id": "e8f5287b",
   "metadata": {},
   "source": [
    "### 열대야가 가장 심했던 날 best10"
   ]
  },
  {
   "cell_type": "code",
   "execution_count": 20,
   "id": "7f9c698e",
   "metadata": {},
   "outputs": [],
   "source": [
    "df_seoul_hotestnight = df_seoul_hotnight.nlargest(10,'최저기온(°C)')"
   ]
  },
  {
   "cell_type": "markdown",
   "id": "52d71bb1",
   "metadata": {},
   "source": [
    "### 열대야가 가장 심했던 날짜, 최고기온"
   ]
  },
  {
   "cell_type": "code",
   "execution_count": 21,
   "id": "4bbb6f3f",
   "metadata": {
    "scrolled": false
   },
   "outputs": [
    {
     "name": "stdout",
     "output_type": "stream",
     "text": [
      "2018-08-02\n",
      "30.3\n"
     ]
    }
   ],
   "source": [
    "print(df_seoul_hotestnight.iloc[0,2].date())\n",
    "print(df_seoul_hotestnight.iloc[0,4])"
   ]
  },
  {
   "cell_type": "markdown",
   "id": "8d6d6f8f",
   "metadata": {},
   "source": [
    "### 시각화"
   ]
  },
  {
   "cell_type": "code",
   "execution_count": 22,
   "id": "78364c8d",
   "metadata": {},
   "outputs": [
    {
     "data": {
      "image/png": "[encoded data removed]",
      "text/plain": [
       "<Figure size 1080x360 with 1 Axes>"
      ]
     },
     "metadata": {
      "needs_background": "light"
     },
     "output_type": "display_data"
    }
   ],
   "source": [
    "# plot\n",
    "plt.plot(df_seoul_hotnight['일시'], df_seoul_hotnight['최저기온(°C)'], 'k.')\n",
    "plt.title('서울시 열대야 현황(1911~2020)', size=20)\n",
    "plt.xlabel('일시')\n",
    "plt.ylabel('일 최저기온(°C)')\n",
    "\n",
    "# 가장 더웠던 밤 표시\n",
    "plt.plot(df_seoul_hotestnight.iloc[0,2].date(), df_seoul_hotestnight.iloc[0,4], 'k^')\n",
    "\n",
    "# 가장 더웠던 날짜, 온도 표시\n",
    "plt.text(df_seoul_hotestnight.iloc[0,2].date(), df_seoul_hotestnight.iloc[0,4]+0.5, \n",
    "        str(df_seoul_hotestnight.iloc[0,2].date())+'('+str(df_seoul_hotestnight.iloc[0,4])+')',\n",
    "        ha='center', size=12)\n",
    "plt.yticks(range(25,33))\n",
    "\n",
    "\n",
    "plt.show()\n"
   ]
  },
  {
   "cell_type": "markdown",
   "id": "e67e119a",
   "metadata": {},
   "source": [
    "# 연도별 폭염일수, 열대야일수 추출"
   ]
  },
  {
   "cell_type": "markdown",
   "id": "70ebd423",
   "metadata": {},
   "source": [
    "## 연도별 폭염일수 추출"
   ]
  },
  {
   "cell_type": "code",
   "execution_count": 23,
   "id": "be2dcfbb",
   "metadata": {},
   "outputs": [],
   "source": [
    "# 연도별 폭염일수 : 연도로 그룹핑하여 일수 카운트\n",
    "df_seoul_hotday_count = df_seoul_hotday.groupby(df_seoul_hotday['일시'].dt.year)['일시'].count().to_frame()"
   ]
  },
  {
   "cell_type": "code",
   "execution_count": 24,
   "id": "42722396",
   "metadata": {
    "scrolled": false
   },
   "outputs": [
    {
     "data": {
      "text/html": [
       "<div>\n",
       "<style scoped>\n",
       "    .dataframe tbody tr th:only-of-type {\n",
       "        vertical-align: middle;\n",
       "    }\n",
       "\n",
       "    .dataframe tbody tr th {\n",
       "        vertical-align: top;\n",
       "    }\n",
       "\n",
       "    .dataframe thead th {\n",
       "        text-align: right;\n",
       "    }\n",
       "</style>\n",
       "<table border=\"1\" class=\"dataframe\">\n",
       "  <thead>\n",
       "    <tr style=\"text-align: right;\">\n",
       "      <th></th>\n",
       "      <th>0</th>\n",
       "    </tr>\n",
       "    <tr>\n",
       "      <th>0</th>\n",
       "      <th></th>\n",
       "    </tr>\n",
       "  </thead>\n",
       "  <tbody>\n",
       "    <tr>\n",
       "      <th>1911</th>\n",
       "      <td>1911</td>\n",
       "    </tr>\n",
       "    <tr>\n",
       "      <th>1912</th>\n",
       "      <td>1912</td>\n",
       "    </tr>\n",
       "    <tr>\n",
       "      <th>1913</th>\n",
       "      <td>1913</td>\n",
       "    </tr>\n",
       "    <tr>\n",
       "      <th>1914</th>\n",
       "      <td>1914</td>\n",
       "    </tr>\n",
       "    <tr>\n",
       "      <th>1915</th>\n",
       "      <td>1915</td>\n",
       "    </tr>\n",
       "    <tr>\n",
       "      <th>...</th>\n",
       "      <td>...</td>\n",
       "    </tr>\n",
       "    <tr>\n",
       "      <th>2016</th>\n",
       "      <td>2016</td>\n",
       "    </tr>\n",
       "    <tr>\n",
       "      <th>2017</th>\n",
       "      <td>2017</td>\n",
       "    </tr>\n",
       "    <tr>\n",
       "      <th>2018</th>\n",
       "      <td>2018</td>\n",
       "    </tr>\n",
       "    <tr>\n",
       "      <th>2019</th>\n",
       "      <td>2019</td>\n",
       "    </tr>\n",
       "    <tr>\n",
       "      <th>2020</th>\n",
       "      <td>2020</td>\n",
       "    </tr>\n",
       "  </tbody>\n",
       "</table>\n",
       "<p>110 rows × 1 columns</p>\n",
       "</div>"
      ],
      "text/plain": [
       "         0\n",
       "0         \n",
       "1911  1911\n",
       "1912  1912\n",
       "1913  1913\n",
       "1914  1914\n",
       "1915  1915\n",
       "...    ...\n",
       "2016  2016\n",
       "2017  2017\n",
       "2018  2018\n",
       "2019  2019\n",
       "2020  2020\n",
       "\n",
       "[110 rows x 1 columns]"
      ]
     },
     "execution_count": 24,
     "metadata": {},
     "output_type": "execute_result"
    }
   ],
   "source": [
    "# 폭염일이 없는 날을 포함시키기 위하여 1911~2020년의 연도 데이터프레임 생성\n",
    "df_years = pd.DataFrame(range(1911,2021))\n",
    "df_years.index = df_years[0]\n",
    "df_years"
   ]
  },
  {
   "cell_type": "code",
   "execution_count": 25,
   "id": "cd23b037",
   "metadata": {
    "scrolled": false
   },
   "outputs": [
    {
     "data": {
      "text/html": [
       "<div>\n",
       "<style scoped>\n",
       "    .dataframe tbody tr th:only-of-type {\n",
       "        vertical-align: middle;\n",
       "    }\n",
       "\n",
       "    .dataframe tbody tr th {\n",
       "        vertical-align: top;\n",
       "    }\n",
       "\n",
       "    .dataframe thead th {\n",
       "        text-align: right;\n",
       "    }\n",
       "</style>\n",
       "<table border=\"1\" class=\"dataframe\">\n",
       "  <thead>\n",
       "    <tr style=\"text-align: right;\">\n",
       "      <th></th>\n",
       "      <th>일시</th>\n",
       "      <th>0</th>\n",
       "    </tr>\n",
       "  </thead>\n",
       "  <tbody>\n",
       "    <tr>\n",
       "      <th>1911</th>\n",
       "      <td>5.0</td>\n",
       "      <td>1911</td>\n",
       "    </tr>\n",
       "    <tr>\n",
       "      <th>1912</th>\n",
       "      <td>3.0</td>\n",
       "      <td>1912</td>\n",
       "    </tr>\n",
       "    <tr>\n",
       "      <th>1913</th>\n",
       "      <td>NaN</td>\n",
       "      <td>1913</td>\n",
       "    </tr>\n",
       "    <tr>\n",
       "      <th>1914</th>\n",
       "      <td>11.0</td>\n",
       "      <td>1914</td>\n",
       "    </tr>\n",
       "    <tr>\n",
       "      <th>1915</th>\n",
       "      <td>10.0</td>\n",
       "      <td>1915</td>\n",
       "    </tr>\n",
       "    <tr>\n",
       "      <th>...</th>\n",
       "      <td>...</td>\n",
       "      <td>...</td>\n",
       "    </tr>\n",
       "    <tr>\n",
       "      <th>2016</th>\n",
       "      <td>24.0</td>\n",
       "      <td>2016</td>\n",
       "    </tr>\n",
       "    <tr>\n",
       "      <th>2017</th>\n",
       "      <td>13.0</td>\n",
       "      <td>2017</td>\n",
       "    </tr>\n",
       "    <tr>\n",
       "      <th>2018</th>\n",
       "      <td>35.0</td>\n",
       "      <td>2018</td>\n",
       "    </tr>\n",
       "    <tr>\n",
       "      <th>2019</th>\n",
       "      <td>15.0</td>\n",
       "      <td>2019</td>\n",
       "    </tr>\n",
       "    <tr>\n",
       "      <th>2020</th>\n",
       "      <td>4.0</td>\n",
       "      <td>2020</td>\n",
       "    </tr>\n",
       "  </tbody>\n",
       "</table>\n",
       "<p>110 rows × 2 columns</p>\n",
       "</div>"
      ],
      "text/plain": [
       "        일시     0\n",
       "1911   5.0  1911\n",
       "1912   3.0  1912\n",
       "1913   NaN  1913\n",
       "1914  11.0  1914\n",
       "1915  10.0  1915\n",
       "...    ...   ...\n",
       "2016  24.0  2016\n",
       "2017  13.0  2017\n",
       "2018  35.0  2018\n",
       "2019  15.0  2019\n",
       "2020   4.0  2020\n",
       "\n",
       "[110 rows x 2 columns]"
      ]
     },
     "execution_count": 25,
     "metadata": {},
     "output_type": "execute_result"
    }
   ],
   "source": [
    "# 연도별 폭염일수, 연도 데이터프레임 concat\n",
    "df_seoul_hotday_count = pd.concat([df_seoul_hotday_count,df_years], axis=1)\n",
    "df_seoul_hotday_count"
   ]
  },
  {
   "cell_type": "code",
   "execution_count": 26,
   "id": "681dd1ba",
   "metadata": {},
   "outputs": [],
   "source": [
    "# 불필요한 컬럼 삭제\n",
    "df_seoul_hotday_count.drop(columns=[0], inplace=True)"
   ]
  },
  {
   "cell_type": "code",
   "execution_count": 27,
   "id": "0937523e",
   "metadata": {},
   "outputs": [
    {
     "data": {
      "text/html": [
       "<div>\n",
       "<style scoped>\n",
       "    .dataframe tbody tr th:only-of-type {\n",
       "        vertical-align: middle;\n",
       "    }\n",
       "\n",
       "    .dataframe tbody tr th {\n",
       "        vertical-align: top;\n",
       "    }\n",
       "\n",
       "    .dataframe thead th {\n",
       "        text-align: right;\n",
       "    }\n",
       "</style>\n",
       "<table border=\"1\" class=\"dataframe\">\n",
       "  <thead>\n",
       "    <tr style=\"text-align: right;\">\n",
       "      <th></th>\n",
       "      <th>일시</th>\n",
       "    </tr>\n",
       "  </thead>\n",
       "  <tbody>\n",
       "    <tr>\n",
       "      <th>1911</th>\n",
       "      <td>5.0</td>\n",
       "    </tr>\n",
       "    <tr>\n",
       "      <th>1912</th>\n",
       "      <td>3.0</td>\n",
       "    </tr>\n",
       "    <tr>\n",
       "      <th>1913</th>\n",
       "      <td>NaN</td>\n",
       "    </tr>\n",
       "    <tr>\n",
       "      <th>1914</th>\n",
       "      <td>11.0</td>\n",
       "    </tr>\n",
       "    <tr>\n",
       "      <th>1915</th>\n",
       "      <td>10.0</td>\n",
       "    </tr>\n",
       "    <tr>\n",
       "      <th>...</th>\n",
       "      <td>...</td>\n",
       "    </tr>\n",
       "    <tr>\n",
       "      <th>2016</th>\n",
       "      <td>24.0</td>\n",
       "    </tr>\n",
       "    <tr>\n",
       "      <th>2017</th>\n",
       "      <td>13.0</td>\n",
       "    </tr>\n",
       "    <tr>\n",
       "      <th>2018</th>\n",
       "      <td>35.0</td>\n",
       "    </tr>\n",
       "    <tr>\n",
       "      <th>2019</th>\n",
       "      <td>15.0</td>\n",
       "    </tr>\n",
       "    <tr>\n",
       "      <th>2020</th>\n",
       "      <td>4.0</td>\n",
       "    </tr>\n",
       "  </tbody>\n",
       "</table>\n",
       "<p>110 rows × 1 columns</p>\n",
       "</div>"
      ],
      "text/plain": [
       "        일시\n",
       "1911   5.0\n",
       "1912   3.0\n",
       "1913   NaN\n",
       "1914  11.0\n",
       "1915  10.0\n",
       "...    ...\n",
       "2016  24.0\n",
       "2017  13.0\n",
       "2018  35.0\n",
       "2019  15.0\n",
       "2020   4.0\n",
       "\n",
       "[110 rows x 1 columns]"
      ]
     },
     "execution_count": 27,
     "metadata": {},
     "output_type": "execute_result"
    }
   ],
   "source": [
    "df_seoul_hotday_count"
   ]
  },
  {
   "cell_type": "code",
   "execution_count": 28,
   "id": "f8871669",
   "metadata": {},
   "outputs": [
    {
     "data": {
      "text/plain": [
       "일시    13\n",
       "dtype: int64"
      ]
     },
     "execution_count": 28,
     "metadata": {},
     "output_type": "execute_result"
    }
   ],
   "source": [
    "# 결측치 확인\n",
    "df_seoul_hotday_count.isnull().sum()"
   ]
  },
  {
   "cell_type": "code",
   "execution_count": 29,
   "id": "b49718aa",
   "metadata": {},
   "outputs": [],
   "source": [
    "# null --> 폭염일이 없음을 뜻함 --> null을 0으로 채우기\n",
    "df_seoul_hotday_count = df_seoul_hotday_count.fillna(0)"
   ]
  },
  {
   "cell_type": "code",
   "execution_count": 30,
   "id": "bf71ebb8",
   "metadata": {},
   "outputs": [],
   "source": [
    "# 컬럼명을 알맞게 바꾸기\n",
    "df_seoul_hotday_count.columns=['폭염일수']"
   ]
  },
  {
   "cell_type": "code",
   "execution_count": 31,
   "id": "8af51748",
   "metadata": {},
   "outputs": [],
   "source": [
    "# 폭염일수 데이터를 정수형으로 바꾸기\n",
    "df_seoul_hotday_count = df_seoul_hotday_count.astype('int64')"
   ]
  },
  {
   "cell_type": "code",
   "execution_count": 32,
   "id": "c6bf67c8",
   "metadata": {
    "scrolled": false
   },
   "outputs": [
    {
     "data": {
      "text/html": [
       "<div>\n",
       "<style scoped>\n",
       "    .dataframe tbody tr th:only-of-type {\n",
       "        vertical-align: middle;\n",
       "    }\n",
       "\n",
       "    .dataframe tbody tr th {\n",
       "        vertical-align: top;\n",
       "    }\n",
       "\n",
       "    .dataframe thead th {\n",
       "        text-align: right;\n",
       "    }\n",
       "</style>\n",
       "<table border=\"1\" class=\"dataframe\">\n",
       "  <thead>\n",
       "    <tr style=\"text-align: right;\">\n",
       "      <th></th>\n",
       "      <th>폭염일수</th>\n",
       "    </tr>\n",
       "  </thead>\n",
       "  <tbody>\n",
       "    <tr>\n",
       "      <th>1939</th>\n",
       "      <td>47</td>\n",
       "    </tr>\n",
       "    <tr>\n",
       "      <th>1943</th>\n",
       "      <td>43</td>\n",
       "    </tr>\n",
       "    <tr>\n",
       "      <th>2018</th>\n",
       "      <td>35</td>\n",
       "    </tr>\n",
       "    <tr>\n",
       "      <th>1994</th>\n",
       "      <td>29</td>\n",
       "    </tr>\n",
       "    <tr>\n",
       "      <th>1919</th>\n",
       "      <td>25</td>\n",
       "    </tr>\n",
       "    <tr>\n",
       "      <th>1950</th>\n",
       "      <td>25</td>\n",
       "    </tr>\n",
       "    <tr>\n",
       "      <th>1930</th>\n",
       "      <td>24</td>\n",
       "    </tr>\n",
       "    <tr>\n",
       "      <th>2016</th>\n",
       "      <td>24</td>\n",
       "    </tr>\n",
       "    <tr>\n",
       "      <th>1924</th>\n",
       "      <td>23</td>\n",
       "    </tr>\n",
       "    <tr>\n",
       "      <th>1929</th>\n",
       "      <td>22</td>\n",
       "    </tr>\n",
       "  </tbody>\n",
       "</table>\n",
       "</div>"
      ],
      "text/plain": [
       "      폭염일수\n",
       "1939    47\n",
       "1943    43\n",
       "2018    35\n",
       "1994    29\n",
       "1919    25\n",
       "1950    25\n",
       "1930    24\n",
       "2016    24\n",
       "1924    23\n",
       "1929    22"
      ]
     },
     "execution_count": 32,
     "metadata": {},
     "output_type": "execute_result"
    }
   ],
   "source": [
    "# 폭염이 가장 많았던 해의 데이터 best10\n",
    "df_seoul_hotday_count.nlargest(10,'폭염일수')"
   ]
  },
  {
   "cell_type": "markdown",
   "id": "29f54101",
   "metadata": {},
   "source": [
    "## 연도별 열대야일수 추출"
   ]
  },
  {
   "cell_type": "code",
   "execution_count": 33,
   "id": "bcc594aa",
   "metadata": {},
   "outputs": [
    {
     "data": {
      "text/html": [
       "<div>\n",
       "<style scoped>\n",
       "    .dataframe tbody tr th:only-of-type {\n",
       "        vertical-align: middle;\n",
       "    }\n",
       "\n",
       "    .dataframe tbody tr th {\n",
       "        vertical-align: top;\n",
       "    }\n",
       "\n",
       "    .dataframe thead th {\n",
       "        text-align: right;\n",
       "    }\n",
       "</style>\n",
       "<table border=\"1\" class=\"dataframe\">\n",
       "  <thead>\n",
       "    <tr style=\"text-align: right;\">\n",
       "      <th></th>\n",
       "      <th>일시</th>\n",
       "    </tr>\n",
       "    <tr>\n",
       "      <th>일시</th>\n",
       "      <th></th>\n",
       "    </tr>\n",
       "  </thead>\n",
       "  <tbody>\n",
       "    <tr>\n",
       "      <th>1911</th>\n",
       "      <td>1</td>\n",
       "    </tr>\n",
       "    <tr>\n",
       "      <th>1914</th>\n",
       "      <td>4</td>\n",
       "    </tr>\n",
       "    <tr>\n",
       "      <th>1915</th>\n",
       "      <td>3</td>\n",
       "    </tr>\n",
       "    <tr>\n",
       "      <th>1919</th>\n",
       "      <td>1</td>\n",
       "    </tr>\n",
       "    <tr>\n",
       "      <th>1921</th>\n",
       "      <td>1</td>\n",
       "    </tr>\n",
       "    <tr>\n",
       "      <th>...</th>\n",
       "      <td>...</td>\n",
       "    </tr>\n",
       "    <tr>\n",
       "      <th>2016</th>\n",
       "      <td>32</td>\n",
       "    </tr>\n",
       "    <tr>\n",
       "      <th>2017</th>\n",
       "      <td>14</td>\n",
       "    </tr>\n",
       "    <tr>\n",
       "      <th>2018</th>\n",
       "      <td>28</td>\n",
       "    </tr>\n",
       "    <tr>\n",
       "      <th>2019</th>\n",
       "      <td>16</td>\n",
       "    </tr>\n",
       "    <tr>\n",
       "      <th>2020</th>\n",
       "      <td>14</td>\n",
       "    </tr>\n",
       "  </tbody>\n",
       "</table>\n",
       "<p>82 rows × 1 columns</p>\n",
       "</div>"
      ],
      "text/plain": [
       "      일시\n",
       "일시      \n",
       "1911   1\n",
       "1914   4\n",
       "1915   3\n",
       "1919   1\n",
       "1921   1\n",
       "...   ..\n",
       "2016  32\n",
       "2017  14\n",
       "2018  28\n",
       "2019  16\n",
       "2020  14\n",
       "\n",
       "[82 rows x 1 columns]"
      ]
     },
     "execution_count": 33,
     "metadata": {},
     "output_type": "execute_result"
    }
   ],
   "source": [
    "# 연도별 열대야일수 : 연도로 그룹핑하여 데이터갯수 카운트\n",
    "df_seoul_hotnight_count = df_seoul_hotnight.groupby(df_seoul_hotnight['일시'].dt.year)['일시'].count().to_frame()\n",
    "df_seoul_hotnight_count"
   ]
  },
  {
   "cell_type": "code",
   "execution_count": 34,
   "id": "aa2f28a5",
   "metadata": {},
   "outputs": [],
   "source": [
    "# 연도 데이터프레임과 연도별 열대야일수 데이터프레임 concat\n",
    "df_seoul_hotnight_count = pd.concat([df_seoul_hotnight_count, df_years], axis=1)"
   ]
  },
  {
   "cell_type": "code",
   "execution_count": 35,
   "id": "f5c5254c",
   "metadata": {},
   "outputs": [],
   "source": [
    "# 불필요한 컬럼 삭제\n",
    "df_seoul_hotnight_count.drop(columns=[0], inplace=True)"
   ]
  },
  {
   "cell_type": "code",
   "execution_count": 36,
   "id": "299f506a",
   "metadata": {},
   "outputs": [],
   "source": [
    "# 컬럼명 변경\n",
    "df_seoul_hotnight_count.columns=['열대야일수']"
   ]
  },
  {
   "cell_type": "code",
   "execution_count": 37,
   "id": "3897f377",
   "metadata": {
    "scrolled": false
   },
   "outputs": [
    {
     "data": {
      "text/plain": [
       "열대야일수    28\n",
       "dtype: int64"
      ]
     },
     "execution_count": 37,
     "metadata": {},
     "output_type": "execute_result"
    }
   ],
   "source": [
    "# 결측치 확인\n",
    "df_seoul_hotnight_count.isnull().sum()"
   ]
  },
  {
   "cell_type": "code",
   "execution_count": 38,
   "id": "4a405335",
   "metadata": {},
   "outputs": [],
   "source": [
    "# null--> 0으로 채우기\n",
    "df_seoul_hotnight_count = df_seoul_hotnight_count.fillna(0)"
   ]
  },
  {
   "cell_type": "code",
   "execution_count": 39,
   "id": "12dd06f8",
   "metadata": {},
   "outputs": [],
   "source": [
    "# 열대야일수 자료형을 정수형으로 변경\n",
    "df_seoul_hotnight_count = df_seoul_hotnight_count.astype('int64')"
   ]
  },
  {
   "cell_type": "code",
   "execution_count": 40,
   "id": "035a6a19",
   "metadata": {
    "scrolled": false
   },
   "outputs": [
    {
     "data": {
      "text/html": [
       "<div>\n",
       "<style scoped>\n",
       "    .dataframe tbody tr th:only-of-type {\n",
       "        vertical-align: middle;\n",
       "    }\n",
       "\n",
       "    .dataframe tbody tr th {\n",
       "        vertical-align: top;\n",
       "    }\n",
       "\n",
       "    .dataframe thead th {\n",
       "        text-align: right;\n",
       "    }\n",
       "</style>\n",
       "<table border=\"1\" class=\"dataframe\">\n",
       "  <thead>\n",
       "    <tr style=\"text-align: right;\">\n",
       "      <th></th>\n",
       "      <th>열대야일수</th>\n",
       "    </tr>\n",
       "  </thead>\n",
       "  <tbody>\n",
       "    <tr>\n",
       "      <th>1994</th>\n",
       "      <td>34</td>\n",
       "    </tr>\n",
       "    <tr>\n",
       "      <th>2016</th>\n",
       "      <td>32</td>\n",
       "    </tr>\n",
       "    <tr>\n",
       "      <th>2018</th>\n",
       "      <td>28</td>\n",
       "    </tr>\n",
       "    <tr>\n",
       "      <th>2013</th>\n",
       "      <td>20</td>\n",
       "    </tr>\n",
       "    <tr>\n",
       "      <th>2012</th>\n",
       "      <td>17</td>\n",
       "    </tr>\n",
       "    <tr>\n",
       "      <th>1967</th>\n",
       "      <td>16</td>\n",
       "    </tr>\n",
       "    <tr>\n",
       "      <th>2019</th>\n",
       "      <td>16</td>\n",
       "    </tr>\n",
       "    <tr>\n",
       "      <th>1995</th>\n",
       "      <td>15</td>\n",
       "    </tr>\n",
       "    <tr>\n",
       "      <th>1997</th>\n",
       "      <td>14</td>\n",
       "    </tr>\n",
       "    <tr>\n",
       "      <th>2010</th>\n",
       "      <td>14</td>\n",
       "    </tr>\n",
       "  </tbody>\n",
       "</table>\n",
       "</div>"
      ],
      "text/plain": [
       "      열대야일수\n",
       "1994     34\n",
       "2016     32\n",
       "2018     28\n",
       "2013     20\n",
       "2012     17\n",
       "1967     16\n",
       "2019     16\n",
       "1995     15\n",
       "1997     14\n",
       "2010     14"
      ]
     },
     "execution_count": 40,
     "metadata": {},
     "output_type": "execute_result"
    }
   ],
   "source": [
    "# 열대야 일수가 가장 많았던 해의 데이터 best10\n",
    "df_seoul_hotnight_count.nlargest(10,'열대야일수')"
   ]
  },
  {
   "cell_type": "markdown",
   "id": "e3be9ac6",
   "metadata": {},
   "source": [
    "# 연도별 폭염일수, 열대야일수 시각화"
   ]
  },
  {
   "cell_type": "markdown",
   "id": "7f2f9e62",
   "metadata": {},
   "source": [
    "## 서브플롯으로 비교하기\n",
    "`fig, ax = plt.subplots()`"
   ]
  },
  {
   "cell_type": "code",
   "execution_count": 41,
   "id": "2772a50f",
   "metadata": {
    "scrolled": false
   },
   "outputs": [
    {
     "data": {
      "text/html": [
       "<div>\n",
       "<style scoped>\n",
       "    .dataframe tbody tr th:only-of-type {\n",
       "        vertical-align: middle;\n",
       "    }\n",
       "\n",
       "    .dataframe tbody tr th {\n",
       "        vertical-align: top;\n",
       "    }\n",
       "\n",
       "    .dataframe thead th {\n",
       "        text-align: right;\n",
       "    }\n",
       "</style>\n",
       "<table border=\"1\" class=\"dataframe\">\n",
       "  <thead>\n",
       "    <tr style=\"text-align: right;\">\n",
       "      <th></th>\n",
       "      <th>폭염일수</th>\n",
       "    </tr>\n",
       "  </thead>\n",
       "  <tbody>\n",
       "    <tr>\n",
       "      <th>1911</th>\n",
       "      <td>5</td>\n",
       "    </tr>\n",
       "    <tr>\n",
       "      <th>1912</th>\n",
       "      <td>3</td>\n",
       "    </tr>\n",
       "    <tr>\n",
       "      <th>1913</th>\n",
       "      <td>0</td>\n",
       "    </tr>\n",
       "  </tbody>\n",
       "</table>\n",
       "</div>"
      ],
      "text/plain": [
       "      폭염일수\n",
       "1911     5\n",
       "1912     3\n",
       "1913     0"
      ]
     },
     "execution_count": 41,
     "metadata": {},
     "output_type": "execute_result"
    }
   ],
   "source": [
    "df_seoul_hotday_count.head(3)"
   ]
  },
  {
   "cell_type": "code",
   "execution_count": 42,
   "id": "cf6cea53",
   "metadata": {},
   "outputs": [
    {
     "data": {
      "text/html": [
       "<div>\n",
       "<style scoped>\n",
       "    .dataframe tbody tr th:only-of-type {\n",
       "        vertical-align: middle;\n",
       "    }\n",
       "\n",
       "    .dataframe tbody tr th {\n",
       "        vertical-align: top;\n",
       "    }\n",
       "\n",
       "    .dataframe thead th {\n",
       "        text-align: right;\n",
       "    }\n",
       "</style>\n",
       "<table border=\"1\" class=\"dataframe\">\n",
       "  <thead>\n",
       "    <tr style=\"text-align: right;\">\n",
       "      <th></th>\n",
       "      <th>열대야일수</th>\n",
       "    </tr>\n",
       "  </thead>\n",
       "  <tbody>\n",
       "    <tr>\n",
       "      <th>1911</th>\n",
       "      <td>1</td>\n",
       "    </tr>\n",
       "    <tr>\n",
       "      <th>1912</th>\n",
       "      <td>0</td>\n",
       "    </tr>\n",
       "    <tr>\n",
       "      <th>1913</th>\n",
       "      <td>0</td>\n",
       "    </tr>\n",
       "  </tbody>\n",
       "</table>\n",
       "</div>"
      ],
      "text/plain": [
       "      열대야일수\n",
       "1911      1\n",
       "1912      0\n",
       "1913      0"
      ]
     },
     "execution_count": 42,
     "metadata": {},
     "output_type": "execute_result"
    }
   ],
   "source": [
    "df_seoul_hotnight_count.head(3)"
   ]
  },
  {
   "cell_type": "code",
   "execution_count": 43,
   "id": "43743027",
   "metadata": {
    "scrolled": false
   },
   "outputs": [
    {
     "data": {
      "image/png": "[encoded data removed]",
      "text/plain": [
       "<Figure size 1080x360 with 2 Axes>"
      ]
     },
     "metadata": {
      "needs_background": "light"
     },
     "output_type": "display_data"
    }
   ],
   "source": [
    "# 서브플롯 만들기\n",
    "fig, ax = plt.subplots(1,2,sharex=True, sharey=True)\n",
    "\n",
    "# 연도별 폭염일수, 열대야일수 시각화\n",
    "ax[0].plot(df_seoul_hotday_count.index, df_seoul_hotday_count['폭염일수'], 'r.-')\n",
    "ax[1].plot(df_seoul_hotnight_count.index, df_seoul_hotnight_count['열대야일수'], 'k.-')\n",
    "\n",
    "# xlabel\n",
    "ax[0].set_xlabel('연도')\n",
    "ax[1].set_xlabel('연도')\n",
    "\n",
    "# ylabel\n",
    "ax[0].set_ylabel('폭염일수')\n",
    "ax[1].set_ylabel('열대야일수')\n",
    "\n",
    "# xticks, yticks 범위 지정하고 틱 공유\n",
    "ax[0].set_xticks(range(1910,2021,10))\n",
    "ax[0].set_yticks(range(0,50,5))\n",
    "\n",
    "# title\n",
    "ax[0].set_title('서울시 연도별 폭염 일수')\n",
    "ax[1].set_title('서울시 연도별 열대야 일수')\n",
    "\n",
    "fig.tight_layout()\n",
    "plt.show()"
   ]
  },
  {
   "cell_type": "markdown",
   "id": "8e1850cd",
   "metadata": {},
   "source": [
    "## 다중막대그래프로 비교하기\n",
    "`fig, ax = plt.subplots()`"
   ]
  },
  {
   "cell_type": "code",
   "execution_count": 44,
   "id": "d3563002",
   "metadata": {
    "scrolled": false
   },
   "outputs": [
    {
     "data": {
      "image/png": "[encoded data removed]",
      "text/plain": [
       "<Figure size 1080x360 with 1 Axes>"
      ]
     },
     "metadata": {
      "needs_background": "light"
     },
     "output_type": "display_data"
    }
   ],
   "source": [
    "fig, ax = plt.subplots()\n",
    "\n",
    "ax.bar(df_seoul_hotday_count.index, df_seoul_hotday_count['폭염일수'], width=-0.4, align='edge',\n",
    "      color='r', label='폭염일수')\n",
    "\n",
    "ax.bar(df_seoul_hotnight_count.index, df_seoul_hotnight_count['열대야일수'], width=0.4, align='edge',\n",
    "      color='k', label='열대야일수')\n",
    "\n",
    "ax.legend()\n",
    "\n",
    "ax.set_title('서울시 연도별 폭염일수, 열대야일수', size=20)\n",
    "ax.set_xlabel('연도')\n",
    "ax.set_ylabel('일수')\n",
    "ax.set_xticks(range(1910,2021,10))\n",
    "ax.set_yticks(range(0,50,5))\n",
    "plt.show()"
   ]
  }
 ],
 "metadata": {
  "kernelspec": {
   "display_name": "Python 3",
   "language": "python",
   "name": "python3"
  },
  "language_info": {
   "codemirror_mode": {
    "name": "ipython",
    "version": 3
   },
   "file_extension": ".py",
   "mimetype": "text/x-python",
   "name": "python",
   "nbconvert_exporter": "python",
   "pygments_lexer": "ipython3",
   "version": "3.8.8"
  },
  "toc": {
   "base_numbering": 1,
   "nav_menu": {},
   "number_sections": true,
   "sideBar": true,
   "skip_h1_title": false,
   "title_cell": "Table of Contents",
   "title_sidebar": "Contents",
   "toc_cell": false,
   "toc_position": {
    "height": "calc(100% - 180px)",
    "left": "10px",
    "top": "150px",
    "width": "224px"
   },
   "toc_section_display": true,
   "toc_window_display": true
  }
 },
 "nbformat": 4,
 "nbformat_minor": 5
}
