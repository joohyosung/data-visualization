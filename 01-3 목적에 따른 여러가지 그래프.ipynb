{
 "cells": [
  {
   "cell_type": "markdown",
   "id": "30c62520",
   "metadata": {},
   "source": [
    "[학습목표]<br>\n",
    "목적에 따른 여러가지 그래프를 그리는 기본 방법을 이해한다."
   ]
  },
  {
   "cell_type": "markdown",
   "id": "1caee086",
   "metadata": {},
   "source": [
    "# 라이브러리 임포트\n",
    "* matplotlib의 pyplot 모듈 사용\n",
    "* 관용적으로 plt라는 별칭 사용"
   ]
  },
  {
   "cell_type": "code",
   "execution_count": 1,
   "id": "59a0fa37",
   "metadata": {},
   "outputs": [],
   "source": [
    "import matplotlib.pyplot as plt"
   ]
  },
  {
   "cell_type": "markdown",
   "id": "3b9152e6",
   "metadata": {},
   "source": [
    "# 시간의 시각화"
   ]
  },
  {
   "cell_type": "code",
   "execution_count": 3,
   "id": "8db81fb0",
   "metadata": {},
   "outputs": [],
   "source": [
    "# 샘플데이터 : 어떤 아이의 나이별 키의 변화\n",
    "age = [7,8,9,10,11,12,13,14,15]\n",
    "height = [122.1, 127.9, 133.4, 138.8, 142.7, 151.4, 155.6, 165.0, 169.2]"
   ]
  },
  {
   "cell_type": "markdown",
   "id": "abe52d7b",
   "metadata": {},
   "source": [
    "## 선그래프"
   ]
  },
  {
   "cell_type": "code",
   "execution_count": 4,
   "id": "0a615450",
   "metadata": {},
   "outputs": [
    {
     "data": {
      "text/plain": [
       "[<matplotlib.lines.Line2D at 0x1e650b996a0>]"
      ]
     },
     "execution_count": 4,
     "metadata": {},
     "output_type": "execute_result"
    },
    {
     "data": {
      "image/png": "[encoded data removed]",
      "text/plain": [
       "<Figure size 432x288 with 1 Axes>"
      ]
     },
     "metadata": {
      "needs_background": "light"
     },
     "output_type": "display_data"
    }
   ],
   "source": [
    "plt.plot(age, height)"
   ]
  },
  {
   "cell_type": "markdown",
   "id": "11a2bfff",
   "metadata": {},
   "source": [
    "# 수량비교 시각화"
   ]
  },
  {
   "cell_type": "code",
   "execution_count": 6,
   "id": "3f439f4a",
   "metadata": {},
   "outputs": [],
   "source": [
    "# 샘플데이터 : 100명 중 혈액형 인원 비교\n",
    "blood_type=['A','B','O','AB']\n",
    "count=[45,35,15,5]"
   ]
  },
  {
   "cell_type": "markdown",
   "id": "70fa4b91",
   "metadata": {},
   "source": [
    "## 막대 그래프"
   ]
  },
  {
   "cell_type": "code",
   "execution_count": 7,
   "id": "129e91e2",
   "metadata": {
    "scrolled": true
   },
   "outputs": [
    {
     "data": {
      "text/plain": [
       "<BarContainer object of 4 artists>"
      ]
     },
     "execution_count": 7,
     "metadata": {},
     "output_type": "execute_result"
    },
    {
     "data": {
      "image/png": "[encoded data removed]",
      "text/plain": [
       "<Figure size 432x288 with 1 Axes>"
      ]
     },
     "metadata": {
      "needs_background": "light"
     },
     "output_type": "display_data"
    }
   ],
   "source": [
    "plt.bar(blood_type,count)"
   ]
  },
  {
   "cell_type": "markdown",
   "id": "f487e886",
   "metadata": {},
   "source": [
    "## 가로 막대 그래프"
   ]
  },
  {
   "cell_type": "code",
   "execution_count": 8,
   "id": "983f461f",
   "metadata": {
    "scrolled": false
   },
   "outputs": [
    {
     "data": {
      "text/plain": [
       "<BarContainer object of 4 artists>"
      ]
     },
     "execution_count": 8,
     "metadata": {},
     "output_type": "execute_result"
    },
    {
     "data": {
      "image/png": "[encoded data removed]",
      "text/plain": [
       "<Figure size 432x288 with 1 Axes>"
      ]
     },
     "metadata": {
      "needs_background": "light"
     },
     "output_type": "display_data"
    }
   ],
   "source": [
    "plt.barh(blood_type,count)"
   ]
  },
  {
   "cell_type": "markdown",
   "id": "5b6a0e4a",
   "metadata": {},
   "source": [
    "# 비율의 시각화"
   ]
  },
  {
   "cell_type": "code",
   "execution_count": 9,
   "id": "73bb1996",
   "metadata": {},
   "outputs": [],
   "source": [
    "# 샘플데이터 : 100명 중 혈액형 인원의 비율\n",
    "blood_type=['A','B','O','AB']\n",
    "count=[45,35,15,5]"
   ]
  },
  {
   "cell_type": "markdown",
   "id": "2725e275",
   "metadata": {},
   "source": [
    "## 파이차트\n",
    "* pie"
   ]
  },
  {
   "cell_type": "code",
   "execution_count": 12,
   "id": "6b56edbe",
   "metadata": {
    "scrolled": false
   },
   "outputs": [
    {
     "data": {
      "image/png": "[encoded data removed]",
      "text/plain": [
       "<Figure size 432x288 with 1 Axes>"
      ]
     },
     "metadata": {},
     "output_type": "display_data"
    }
   ],
   "source": [
    "plt.pie(count, labels=blood_type)\n",
    "plt.show()"
   ]
  },
  {
   "cell_type": "markdown",
   "id": "86062dc1",
   "metadata": {},
   "source": [
    "# 분포의 시각화"
   ]
  },
  {
   "cell_type": "code",
   "execution_count": 18,
   "id": "564a2417",
   "metadata": {
    "collapsed": true
   },
   "outputs": [
    {
     "data": {
      "text/plain": [
       "array([ 43,  71,  44,  30,  56,  95,  42,  94,  99,  81,  83,  78,  16,\n",
       "        27,  10,  71,  52,  12,   1,  18,  43,  71,  91,  13,  82,   6,\n",
       "        50,  37,  28,  76,  94,  62,  70,  32,   3,  85,  99,  36,  67,\n",
       "        66,  84,  82,  36,  14,  55,  27,  37,  46,  53,  37,  58,  28,\n",
       "        73,  84,  24,  52,  62,  97,  20,  89,  33,  56,  50,  62,  64,\n",
       "        59,   2,  68,  59,  26,  75,  37,  63,  24,  97,  59,  99,  89,\n",
       "        82,  62,  82,  34,  88,  19,  45,  47,  91,  34,  14,  34,  16,\n",
       "         2,  38,  36,  43,   8,  33,  79,  62,  78,  58,  60,  44,  77,\n",
       "        48,   7, 100,  90,  73,  67,  39,  39,  85,  44,  14,  52,  79,\n",
       "        14,  32,  83,  92,  69,  95,  60,  78,  71,  72,  43,  75,  26,\n",
       "        71,   8,  39,   7,  91,  82,  46,  60,  55,  72, 100,  72,  71,\n",
       "        62,   4,  87,  36,  14,  34,  93,  97,  85,  60,  70,  27,  17,\n",
       "        67,   1,   7,  88,  91,  48,  21,  24,  95,  29,  30,  69,   9,\n",
       "         1,  67,  27,  37,  53, 100,  50,  55,  11,   8,   4,  18,  21,\n",
       "        22,  93,  45,  37,  86,  75,  25,  63,  91,  91,  47,  56,  52,\n",
       "        59,  60,  93,  50,  30,  87,  66,   8,  59,  97,  36,  93,  76,\n",
       "        91,  88,  27,  12,  16,  31,  28,  53,  64,  87,  42,  84,   2,\n",
       "        89,  55,  40,  93,  43,  80,  46,  36,  17,  43,  91,  32,  20,\n",
       "         2,  36,  89,  39,  98,  96,  31,  21,  87,  28,  77,   9,  90,\n",
       "        96,  23,  45,  94,  15,  46,  37,  96,  19,   8,   7,  34,  13,\n",
       "        71,  35,   9,   4,  10,  74,  82,  84,  85,  34,  41,   9,  73,\n",
       "        44,  54,  51,  48,   2,  92,  25,  55,  44,  34,  34,  97,  63,\n",
       "        26,  57,  40,  15,  68,  39,   4,  82,  77,  24,  90,  17,  85,\n",
       "        11,  35,  15,  40,  36,  12,  49,  99,  44,  38,  18,   1,  55,\n",
       "        67,  70,  50,  91,  57,  59,  72,  19,  24,   3,  88,  13,  16,\n",
       "        86,  68,  61,  17,  97,  22,   2,  33,  12,  74,  63,  50,  40,\n",
       "        33,  40,  41,  12,  74,  84,  52,  88,  26,  68,   9,  44,  37,\n",
       "        40,  45,  68,   5,  14,  56,  20,  94,  10,  31,   8,  36,  21,\n",
       "        67,  50,  59,  71,  81,  18,  23,  21,  58,  15,  28,  54,  32,\n",
       "        36,  58,  35,  62,  76,  94,  15,  42,  85,  71,  48,  48,  55,\n",
       "        48,   3,  28,  25,  70,  35,  12,  44,  61,  99,  66,  42,  62,\n",
       "        13,   5,  68,  87,  76,  19,  84,   4,  67,  63,  32,  39,  51,\n",
       "        56,  58,  19,  16,  32,  66,  81,  28,  33,  82,  12,  21,  80,\n",
       "        88,  25,  46,  44,  40,  16,  48,  14,  95,   9,  67,  75,  48,\n",
       "        30,  27,  74,  16,  37,  15,  14,  71,  81,  82,  59,  85,  61,\n",
       "        33,  98,  94,  64,   2,  84,   8,  32,  49,  92,  87,  17,  64,\n",
       "        31,  25,  88,  11,  24,  79,  92,  91,  58,  93,   7,  35,   2,\n",
       "        90,   2,   6,  28,  59,   5,  38,  77,  80,  96,  17,  30,  65,\n",
       "        37,  68,  93,  13,  34,  57,  14,  31,  84,  61,  89,  56,  52,\n",
       "        30,  89,  57,  28,  73,  12,  32,  39,  24,  15,  54,  53,  67,\n",
       "        86,  39,  42,  51,  48,  52,  83,  18,  83,  11,   8,  65,  29,\n",
       "        11,  85,  54,  25,  89,   4,  58,  67,  71,  98,  39,  21,  59,\n",
       "        64,  42,  35,  47,  54,  31,  11,   6,   1,   8,  43,  94,  82,\n",
       "        79,  79,  16,  52,  50,  41,  87,   4,  82,  34, 100,  87,   2,\n",
       "        65,  93,  53,  94,  39,  29,  35,  92,   9,  28,   2,   3,  51,\n",
       "        92,  54,  71,  88,  58,  41,  25,  38,  75,  97,  22,  31,   8,\n",
       "        89,  42,  49,  88,  61,  35,  88,  98,  67,   6,  83,  95,  49,\n",
       "        28,  24,  69,   9,   9,  24,  76,  80,  27,  60,  40,  33,  52,\n",
       "        97,  14,  40,  73,  50,  58,  50,  61,  12,  31,  44,  35,  16,\n",
       "        44,  50,  33,  31,  87,  87,  12,  81,  29,  95,  28,  38,  68,\n",
       "         6,  27,  78,  87,  50,  28,  24,  86,  44,  71,  65,  41,  12,\n",
       "        64,  74,  16,  19,  45,  51,  55,   9,  77,  34,  10,  21,  83,\n",
       "        11,  59,  89,  95,  58,  89,  19,  39,  37,  49,  45,  75,  49,\n",
       "        31,  17,   1,  33,  80,  64,  45,  62,  85,  89,  84,  77,  64,\n",
       "        29,  95,  47,  49,  15,  46,   1,  69,  17,  57,  39,  19,  94,\n",
       "        11,  80,   5,  44,  17,  77,  74,  58,  67, 100,  88,  93,  22,\n",
       "        96,  79,  20,  96,   5,  97,   8,  60,  82,  86,  28,  53,  68,\n",
       "        13,  49,  93,   3,  59,  51,  37,  24,  71,  55,  35,  45,  46,\n",
       "        80,  35,  19,  22,  82,  40,  85,  49,  49,  32,  23,  33,  68,\n",
       "        53,  52, 100,  18,  14,  68,  94,  48,   1,  53,  94,  73,  75,\n",
       "        79,  94,  84,  34, 100,  26,  80,  91,  28,  81,   2,  14,  77,\n",
       "        87,  73,  28,  58,  20,  14,   8,  97,  20,  92,  97,  53,  20,\n",
       "        45,  47,  14,  53,  14,  27,  89,  69,  37,  94,  20,  58,  32,\n",
       "        57,  62,   9,  70,  11,  74,   4,  10,  54,  25,   3,  93,   1,\n",
       "        45,  17,  34,  48,  28,  41,  80,  69,  30,  93,  11,  76,  51,\n",
       "        48,  50,  24,  76,  79,   8,  13,  73,  68,  35,   9,   1,  73,\n",
       "        96,  20,  47,  16,  21,  75,  71,  11,  69,  96,  68,  10,  63,\n",
       "        82,  89,  91,  41,  86,   2,  15,  29,  78,  40,   9,  10,  59,\n",
       "        50,  40,  72,  10,  43,  15,  38,  64,  31,   6,  83,  57,  79,\n",
       "        38,  65,  32,  38,   4,  48,  73,  63,  30,  27,  53,  68,  28,\n",
       "        50,  83,  62,  52,  71,  61,  45,  75,  95,  63,  65,  71,  67,\n",
       "        79,  60,  91,  91,  13,  98,  71,  45,  90,  40,  76,  25,  51,\n",
       "        45,  87,  58,  49,  47,  67,  20,  15,   5,  10,  40,  57,  69,\n",
       "         7,  76,  46,  42,  52,   5,  51,  42,  57,  24,  91,  65,  45,\n",
       "        32,   5,  52,  48,  81,  44,  60,  18,  68,  29,  63,  67,   9,\n",
       "        15,  30,  78,   6,  62,  80,  12,  86,  42,  85,  20,   2,  66,\n",
       "        50,  93,  34,   6,  25,  64,  42,   7,  31,  92,  21,  39])"
      ]
     },
     "execution_count": 18,
     "metadata": {},
     "output_type": "execute_result"
    }
   ],
   "source": [
    "# 샘플데이터 (1~100사이의 랜덤 정수 1000개)\n",
    "import numpy as np\n",
    "data = np.random.randint(1,101,1000)\n",
    "data"
   ]
  },
  {
   "cell_type": "markdown",
   "id": "4d09e4e6",
   "metadata": {},
   "source": [
    "## 히스토그램"
   ]
  },
  {
   "cell_type": "code",
   "execution_count": 21,
   "id": "6bf388f8",
   "metadata": {
    "scrolled": false
   },
   "outputs": [
    {
     "data": {
      "image/png": "[encoded data removed]",
      "text/plain": [
       "<Figure size 432x288 with 1 Axes>"
      ]
     },
     "metadata": {
      "needs_background": "light"
     },
     "output_type": "display_data"
    }
   ],
   "source": [
    "plt.hist(data, bins=100)\n",
    "plt.show()"
   ]
  },
  {
   "cell_type": "markdown",
   "id": "1b5ab169",
   "metadata": {},
   "source": [
    "## 상자수염그래프\n",
    "* boxplot"
   ]
  },
  {
   "cell_type": "code",
   "execution_count": 24,
   "id": "58ae57c9",
   "metadata": {
    "scrolled": false
   },
   "outputs": [
    {
     "data": {
      "image/png": "[encoded data removed]",
      "text/plain": [
       "<Figure size 432x288 with 1 Axes>"
      ]
     },
     "metadata": {
      "needs_background": "light"
     },
     "output_type": "display_data"
    }
   ],
   "source": [
    "plt.boxplot(data)\n",
    "plt.show()"
   ]
  },
  {
   "cell_type": "markdown",
   "id": "4a9f86cf",
   "metadata": {},
   "source": [
    "## 바이올린그래프\n",
    "* violinplot"
   ]
  },
  {
   "cell_type": "code",
   "execution_count": 26,
   "id": "94e781ac",
   "metadata": {
    "scrolled": true
   },
   "outputs": [
    {
     "data": {
      "image/png": "[encoded data removed]",
      "text/plain": [
       "<Figure size 432x288 with 1 Axes>"
      ]
     },
     "metadata": {
      "needs_background": "light"
     },
     "output_type": "display_data"
    }
   ],
   "source": [
    "plt.violinplot(data)\n",
    "plt.show()"
   ]
  },
  {
   "cell_type": "markdown",
   "id": "97b72c63",
   "metadata": {},
   "source": [
    "# 관계의 시각화"
   ]
  },
  {
   "cell_type": "code",
   "execution_count": 29,
   "id": "f21d82d5",
   "metadata": {
    "scrolled": false
   },
   "outputs": [
    {
     "data": {
      "text/html": [
       "<div>\n",
       "<style scoped>\n",
       "    .dataframe tbody tr th:only-of-type {\n",
       "        vertical-align: middle;\n",
       "    }\n",
       "\n",
       "    .dataframe tbody tr th {\n",
       "        vertical-align: top;\n",
       "    }\n",
       "\n",
       "    .dataframe thead th {\n",
       "        text-align: right;\n",
       "    }\n",
       "</style>\n",
       "<table border=\"1\" class=\"dataframe\">\n",
       "  <thead>\n",
       "    <tr style=\"text-align: right;\">\n",
       "      <th></th>\n",
       "      <th>total_bill</th>\n",
       "      <th>tip</th>\n",
       "    </tr>\n",
       "  </thead>\n",
       "  <tbody>\n",
       "    <tr>\n",
       "      <th>0</th>\n",
       "      <td>16.99</td>\n",
       "      <td>1.01</td>\n",
       "    </tr>\n",
       "    <tr>\n",
       "      <th>1</th>\n",
       "      <td>10.34</td>\n",
       "      <td>1.66</td>\n",
       "    </tr>\n",
       "    <tr>\n",
       "      <th>2</th>\n",
       "      <td>21.01</td>\n",
       "      <td>3.50</td>\n",
       "    </tr>\n",
       "    <tr>\n",
       "      <th>3</th>\n",
       "      <td>23.68</td>\n",
       "      <td>3.31</td>\n",
       "    </tr>\n",
       "    <tr>\n",
       "      <th>4</th>\n",
       "      <td>24.59</td>\n",
       "      <td>3.61</td>\n",
       "    </tr>\n",
       "    <tr>\n",
       "      <th>...</th>\n",
       "      <td>...</td>\n",
       "      <td>...</td>\n",
       "    </tr>\n",
       "    <tr>\n",
       "      <th>239</th>\n",
       "      <td>29.03</td>\n",
       "      <td>5.92</td>\n",
       "    </tr>\n",
       "    <tr>\n",
       "      <th>240</th>\n",
       "      <td>27.18</td>\n",
       "      <td>2.00</td>\n",
       "    </tr>\n",
       "    <tr>\n",
       "      <th>241</th>\n",
       "      <td>22.67</td>\n",
       "      <td>2.00</td>\n",
       "    </tr>\n",
       "    <tr>\n",
       "      <th>242</th>\n",
       "      <td>17.82</td>\n",
       "      <td>1.75</td>\n",
       "    </tr>\n",
       "    <tr>\n",
       "      <th>243</th>\n",
       "      <td>18.78</td>\n",
       "      <td>3.00</td>\n",
       "    </tr>\n",
       "  </tbody>\n",
       "</table>\n",
       "<p>244 rows × 2 columns</p>\n",
       "</div>"
      ],
      "text/plain": [
       "     total_bill   tip\n",
       "0         16.99  1.01\n",
       "1         10.34  1.66\n",
       "2         21.01  3.50\n",
       "3         23.68  3.31\n",
       "4         24.59  3.61\n",
       "..          ...   ...\n",
       "239       29.03  5.92\n",
       "240       27.18  2.00\n",
       "241       22.67  2.00\n",
       "242       17.82  1.75\n",
       "243       18.78  3.00\n",
       "\n",
       "[244 rows x 2 columns]"
      ]
     },
     "execution_count": 29,
     "metadata": {},
     "output_type": "execute_result"
    }
   ],
   "source": [
    "## 샘플데이터 (지불금액에 따른 팁)\n",
    "import seaborn as sns\n",
    "tips = sns.load_dataset('tips')[['total_bill','tip']]\n",
    "tips"
   ]
  },
  {
   "cell_type": "markdown",
   "id": "627ba5a4",
   "metadata": {},
   "source": [
    "## 산점도\n",
    "* scatter"
   ]
  },
  {
   "cell_type": "code",
   "execution_count": 30,
   "id": "1af15d7e",
   "metadata": {
    "scrolled": true
   },
   "outputs": [
    {
     "data": {
      "text/plain": [
       "<matplotlib.collections.PathCollection at 0x1e654384ca0>"
      ]
     },
     "execution_count": 30,
     "metadata": {},
     "output_type": "execute_result"
    },
    {
     "data": {
      "image/png": "[encoded data removed]",
      "text/plain": [
       "<Figure size 432x288 with 1 Axes>"
      ]
     },
     "metadata": {
      "needs_background": "light"
     },
     "output_type": "display_data"
    }
   ],
   "source": [
    "plt.scatter(tips['total_bill'], tips['tip'])"
   ]
  }
 ],
 "metadata": {
  "kernelspec": {
   "display_name": "Python 3",
   "language": "python",
   "name": "python3"
  },
  "language_info": {
   "codemirror_mode": {
    "name": "ipython",
    "version": 3
   },
   "file_extension": ".py",
   "mimetype": "text/x-python",
   "name": "python",
   "nbconvert_exporter": "python",
   "pygments_lexer": "ipython3",
   "version": "3.8.8"
  },
  "toc": {
   "base_numbering": 1,
   "nav_menu": {},
   "number_sections": true,
   "sideBar": true,
   "skip_h1_title": false,
   "title_cell": "Table of Contents",
   "title_sidebar": "Contents",
   "toc_cell": false,
   "toc_position": {
    "height": "calc(100% - 180px)",
    "left": "10px",
    "top": "150px",
    "width": "303.81px"
   },
   "toc_section_display": true,
   "toc_window_display": true
  }
 },
 "nbformat": 4,
 "nbformat_minor": 5
}
